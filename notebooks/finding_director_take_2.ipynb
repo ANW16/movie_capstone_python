{
 "cells": [
  {
   "cell_type": "code",
   "execution_count": null,
   "id": "0248b961",
   "metadata": {},
   "outputs": [],
   "source": [
    "import pandas as pd\n",
    "import requests\n",
    "import matplotlib.pyplot as plt\n",
    "import matplotlib\n",
    "import seaborn as sns\n",
    "import numpy as np\n",
    "from numpy import mean\n",
    "import json\n",
    "import gzip\n",
    "from subprocess import check_output\n",
    "import math\n",
    "import ast\n",
    "%matplotlib inline"
   ]
  },
  {
   "cell_type": "code",
   "execution_count": null,
   "id": "321da983",
   "metadata": {},
   "outputs": [],
   "source": [
    "production_df = pd.read_excel('../data/tmdb_production_data.xlsx', index_col=0)\n",
    "movie_df = pd.read_excel('../data/tmdb_movie_data.xlsx', index_col=0)\n",
    "genre_df = pd.read_excel('../data/movie_genres_data.xlsx', index_col=0)\n",
    "cast_df = pd.read_excel('../data/tmdb_cast_data.xlsx', index_col=0)"
   ]
  },
  {
   "cell_type": "code",
   "execution_count": null,
   "id": "50d9d1f9",
   "metadata": {},
   "outputs": [],
   "source": [
    "director_df = cast_df.loc[cast_df['cast_known_for_department']=='Directing']\n",
    "director_df"
   ]
  },
  {
   "cell_type": "code",
   "execution_count": null,
   "id": "904569c7",
   "metadata": {},
   "outputs": [],
   "source": [
    "director_movie = director_df[['movie_id', 'cast_name']]\n",
    "director_movie = director_movie.groupby(\"cast_name\").agg({\"movie_id\": lambda x: list(x)})\n",
    "director_movie.reset_index(inplace=True)\n",
    "director_movie = director_movie.rename(columns={'cast_name':'Director'})\n",
    "director_movie"
   ]
  },
  {
   "cell_type": "code",
   "execution_count": null,
   "id": "fb32e902",
   "metadata": {},
   "outputs": [],
   "source": [
    "movie_profits = production_df[['movie_title', 'movie_profits']]\n",
    "movie_profits"
   ]
  },
  {
   "cell_type": "code",
   "execution_count": null,
   "id": "f0c76acf",
   "metadata": {},
   "outputs": [],
   "source": [
    "movie_ids = movie_df[['movie_id', 'movie_title']]\n",
    "movie_ids"
   ]
  },
  {
   "cell_type": "code",
   "execution_count": null,
   "id": "9874bfba",
   "metadata": {},
   "outputs": [],
   "source": [
    "profit_ids = movie_profits.merge(movie_ids)\n",
    "profit_ids = profit_ids[profit_ids['movie_profits'] != 0]\n",
    "profit_ids = profit_ids.drop(columns={'movie_title'})\n",
    "profit_ids"
   ]
  },
  {
   "cell_type": "code",
   "execution_count": null,
   "id": "3d66be54",
   "metadata": {},
   "outputs": [],
   "source": [
    "profit_genre = profit_ids.merge(genre_df)\n",
    "\n",
    "animation_movies = profit_genre[profit_genre['Animation'] == 1]\n",
    "animation_movies"
   ]
  },
  {
   "cell_type": "code",
   "execution_count": null,
   "id": "d4495413",
   "metadata": {},
   "outputs": [],
   "source": [
    "animation_movies = animation_movies.drop(columns={'Action', 'Adventure', 'Animation', 'Comedy', 'Crime', 'Drama', 'Family', 'Fantasy', 'History', 'Horror', 'Music', 'Mystery', 'Romance', 'Science Fiction', 'TV Movie', 'Thriller', 'War', 'Western'})\n",
    "animation_movies"
   ]
  },
  {
   "cell_type": "code",
   "execution_count": null,
   "id": "caac3c15",
   "metadata": {},
   "outputs": [],
   "source": [
    "avg_ani_profit = animation_movies['movie_profits'].mean()\n",
    "round(avg_ani_profit/1000000,0)"
   ]
  },
  {
   "cell_type": "code",
   "execution_count": null,
   "id": "116d136b",
   "metadata": {},
   "outputs": [],
   "source": [
    "repeated_rows = []\n",
    "for movie_id, profits in zip(animation_movies['movie_id'], animation_movies['movie_profits']):\n",
    "    directors = director_movie[director_movie['movie_id'].apply(lambda x: movie_id in x)]['Director'].values\n",
    "    for director in directors:\n",
    "        repeated_rows.append({'movie_id': movie_id, 'movie_profits': profits, 'Director': director})\n",
    "\n",
    "animation_movies_repeated = pd.DataFrame(repeated_rows)"
   ]
  },
  {
   "cell_type": "code",
   "execution_count": null,
   "id": "1278c3d1",
   "metadata": {},
   "outputs": [],
   "source": [
    "animation_movies_repeated"
   ]
  },
  {
   "cell_type": "code",
   "execution_count": null,
   "id": "70a8e353",
   "metadata": {},
   "outputs": [],
   "source": [
    "animation_movies_repeated = animation_movies_repeated.drop(columns={'movie_id'})"
   ]
  },
  {
   "cell_type": "code",
   "execution_count": null,
   "id": "aa7a9c43",
   "metadata": {},
   "outputs": [],
   "source": [
    "movies_directed = animation_movies_repeated.groupby('Director').size()\n",
    "movies_directed = pd.DataFrame(movies_directed)\n",
    "movies_directed.reset_index(inplace=True)\n",
    "movies_directed = movies_directed.rename(columns={0:'Movies Directed'})\n",
    "movies_directed"
   ]
  },
  {
   "cell_type": "code",
   "execution_count": null,
   "id": "1fad1bdf",
   "metadata": {},
   "outputs": [],
   "source": [
    "animation_movies_repeated = animation_movies_repeated.groupby('Director').mean()\n",
    "animation_movies_repeated.reset_index(inplace=True)\n",
    "animation_movies_repeated['movie_profits'] = round(animation_movies_repeated['movie_profits']/1000000,0)\n",
    "animation_movies_repeated"
   ]
  },
  {
   "cell_type": "code",
   "execution_count": null,
   "id": "a8ec0785",
   "metadata": {},
   "outputs": [],
   "source": [
    "director_data = animation_movies_repeated.merge(movies_directed)\n",
    "director_data"
   ]
  },
  {
   "cell_type": "code",
   "execution_count": null,
   "id": "e4760423",
   "metadata": {},
   "outputs": [],
   "source": [
    "canidates = ['Brad Bird', 'Lee Unkrich', 'Stephen J. Anderson']"
   ]
  },
  {
   "cell_type": "code",
   "execution_count": null,
   "id": "6240f1cd",
   "metadata": {},
   "outputs": [],
   "source": [
    "result = director_data[director_data['Director'].isin(canidates)]\n",
    "result = result.rename(columns={'movie_budget':'Average Budget (Millions)'})\n",
    "result"
   ]
  },
  {
   "cell_type": "code",
   "execution_count": null,
   "id": "4cbf1ee0",
   "metadata": {},
   "outputs": [],
   "source": [
    "director_data.sort_values(['Movies Directed'], ascending=0)"
   ]
  },
  {
   "cell_type": "code",
   "execution_count": null,
   "id": "50e317fb",
   "metadata": {},
   "outputs": [],
   "source": [
    "director_data = director_data[director_data['Movies Directed'] > 1]\n",
    "director_data = director_data.sort_values(['movie_profits'], ascending=0)\n",
    "director_data = director_data.head(3)\n",
    "director_data = director_data.sort_values(['movie_profits'], ascending=1)\n",
    "director_data"
   ]
  },
  {
   "cell_type": "code",
   "execution_count": null,
   "id": "d158d1b0",
   "metadata": {},
   "outputs": [],
   "source": [
    "graph_data = director_data.copy(deep=True)\n",
    "graph_data = graph_data.rename(columns={'movie_profits':'Average Movie Profit (Millions)'})\n",
    "graph_data"
   ]
  },
  {
   "cell_type": "code",
   "execution_count": null,
   "id": "ad174731",
   "metadata": {},
   "outputs": [],
   "source": [
    "means = list(graph_data['Average Movie Profit (Millions)'])\n",
    "means = [int(i) for i in means]\n",
    "means"
   ]
  },
  {
   "cell_type": "code",
   "execution_count": null,
   "id": "c07b6d40",
   "metadata": {},
   "outputs": [],
   "source": [
    "plt.figure(figsize=(14,11))\n",
    "sns.set(style=\"ticks\", context=\"talk\")\n",
    "plt.style.use(\"dark_background\")\n",
    "\n",
    "palette = {'Brad Bird':'#485c70', 'Lee Unkrich':'#630330', 'Stephen J. Anderson':'#D61A1F'}\n",
    "\n",
    "bar = sns.barplot(x='Director', y='Average Movie Profit (Millions)', data=graph_data, palette=palette, ci=False);\n",
    "\n",
    "for x in range(len(means)):\n",
    "    bar.text(x,means[x]+9.5, str(round(means[x],0)),\n",
    "            fontdict = dict(color='white', fontsize=18),\n",
    "            horizontalalignment = 'center')"
   ]
  },
  {
   "cell_type": "code",
   "execution_count": null,
   "id": "dd71f9df",
   "metadata": {},
   "outputs": [],
   "source": []
  },
  {
   "cell_type": "code",
   "execution_count": null,
   "id": "74e1b132",
   "metadata": {},
   "outputs": [],
   "source": []
  }
 ],
 "metadata": {
  "kernelspec": {
   "display_name": "Python 3 (ipykernel)",
   "language": "python",
   "name": "python3"
  },
  "language_info": {
   "codemirror_mode": {
    "name": "ipython",
    "version": 3
   },
   "file_extension": ".py",
   "mimetype": "text/x-python",
   "name": "python",
   "nbconvert_exporter": "python",
   "pygments_lexer": "ipython3",
   "version": "3.9.12"
  }
 },
 "nbformat": 4,
 "nbformat_minor": 5
}
