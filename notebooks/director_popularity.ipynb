{
 "cells": [
  {
   "cell_type": "code",
   "execution_count": null,
   "id": "e772544d",
   "metadata": {},
   "outputs": [],
   "source": [
    "import pandas as pd\n",
    "import requests\n",
    "import matplotlib.pyplot as plt\n",
    "import matplotlib\n",
    "import seaborn as sns\n",
    "import numpy as np\n",
    "from numpy import mean\n",
    "import json\n",
    "import gzip\n",
    "from subprocess import check_output\n",
    "import math\n",
    "import ast\n",
    "%matplotlib inline"
   ]
  },
  {
   "cell_type": "code",
   "execution_count": null,
   "id": "8c6a6168",
   "metadata": {},
   "outputs": [],
   "source": [
    "production_df = pd.read_excel('../data/tmdb_production_data.xlsx', index_col=0)\n",
    "movie_df = pd.read_excel('../data/tmdb_movie_data.xlsx', index_col=0)\n",
    "genre_df = pd.read_excel('../data/movie_genres_data.xlsx', index_col=0)\n",
    "cast_df = pd.read_excel('../data/tmdb_cast_data.xlsx', index_col=0)"
   ]
  },
  {
   "cell_type": "code",
   "execution_count": null,
   "id": "691d721a",
   "metadata": {},
   "outputs": [],
   "source": [
    "director_df = cast_df.loc[cast_df['cast_known_for_department']=='Directing']\n",
    "director_df"
   ]
  },
  {
   "cell_type": "code",
   "execution_count": null,
   "id": "784a2218",
   "metadata": {},
   "outputs": [],
   "source": [
    "director_pop = director_df[['movie_id', 'cast_name', 'cast_popularity']]\n",
    "director_pop = director_pop.drop(columns={'movie_id'})\n",
    "director_pop = director_pop.groupby('cast_name').mean()\n",
    "director_pop = director_pop.sort_values(by=['cast_popularity'], ascending=False)\n",
    "director_pop.reset_index(inplace=True)\n",
    "director_pop = director_pop.rename(columns={'cast_name':'Director', 'cast_popularity':\"Director's Popularity\"})\n",
    "director_pop"
   ]
  },
  {
   "cell_type": "code",
   "execution_count": null,
   "id": "460a54c2",
   "metadata": {},
   "outputs": [],
   "source": [
    "director_movie = director_df[['movie_id', 'cast_name']]\n",
    "director_movie = director_movie.groupby(\"cast_name\").agg({\"movie_id\": lambda x: list(x)})\n",
    "director_movie.reset_index(inplace=True)\n",
    "director_movie = director_movie.rename(columns={'cast_name':'Director'})\n",
    "director_movie"
   ]
  },
  {
   "cell_type": "code",
   "execution_count": null,
   "id": "edeadca4",
   "metadata": {},
   "outputs": [],
   "source": [
    "test = director_movie['movie_id'][457][0]\n",
    "test"
   ]
  },
  {
   "cell_type": "code",
   "execution_count": null,
   "id": "9829a43e",
   "metadata": {},
   "outputs": [],
   "source": [
    "movie_popularity[movie_popularity['movie_id'] == test]"
   ]
  },
  {
   "cell_type": "code",
   "execution_count": null,
   "id": "9e25cf85",
   "metadata": {},
   "outputs": [],
   "source": [
    "pop_data = production_df[['movie_title', 'movie_revenue']]\n",
    "movie_id = movie_df[['movie_title', 'movie_id']]\n",
    "movie_popularity = pop_data.merge(movie_id)\n",
    "movie_popularity = movie_popularity.drop(columns={'movie_title'})\n",
    "movie_popularity"
   ]
  },
  {
   "cell_type": "code",
   "execution_count": null,
   "id": "7cb75b1c",
   "metadata": {},
   "outputs": [],
   "source": [
    "repeated_rows = []\n",
    "for movie_id, movie_revenue in zip(movie_popularity['movie_id'], movie_popularity['movie_revenue']):\n",
    "    directors = director_movie[director_movie['movie_id'].apply(lambda x: movie_id in x)]['Director'].values\n",
    "    for director in directors:\n",
    "        repeated_rows.append({'movie_id': movie_id, 'movie_revenue': movie_revenue, 'Director': director})\n",
    "\n",
    "movie_popularity_repeated = pd.DataFrame(repeated_rows)"
   ]
  },
  {
   "cell_type": "code",
   "execution_count": null,
   "id": "2c50823e",
   "metadata": {},
   "outputs": [],
   "source": [
    "print(movie_popularity_repeated)"
   ]
  },
  {
   "cell_type": "code",
   "execution_count": null,
   "id": "3be25c2d",
   "metadata": {},
   "outputs": [],
   "source": [
    "director_popularity_repeated = pd.DataFrame(movie_popularity_repeated)\n",
    "director_popularity_repeated = director_popularity_repeated.loc[director_popularity_repeated['movie_revenue'] > 0]\n",
    "director_popularity_repeated"
   ]
  },
  {
   "cell_type": "code",
   "execution_count": null,
   "id": "26d65683",
   "metadata": {},
   "outputs": [],
   "source": [
    "director_merged = director_popularity_repeated.merge(director_pop)\n",
    "director_merged = director_merged.drop(columns={'movie_id'})\n",
    "director_merged"
   ]
  },
  {
   "cell_type": "code",
   "execution_count": null,
   "id": "83efd1e3",
   "metadata": {},
   "outputs": [],
   "source": [
    "pop_count = director_merged[[\"Director's Popularity\"]]\n",
    "pop_count[\"Director's Popularity\"] = round(pop_count[\"Director's Popularity\"],0)\n",
    "pop_count = pop_count.groupby(\"Director's Popularity\").count()\n",
    "pop_count"
   ]
  },
  {
   "cell_type": "code",
   "execution_count": null,
   "id": "a601827d",
   "metadata": {},
   "outputs": [],
   "source": [
    "direct_data = director_merged.groupby('Director').mean()\n",
    "direct_data = direct_data.rename(columns={'movie_revenue':'Revenue (Millions)'})\n",
    "direct_data = direct_data.sort_values(by=[\"Director's Popularity\"], ascending=False)\n",
    "direct_data[\"Director's Popularity\"] = round(direct_data[\"Director's Popularity\"],0)\n",
    "direct_data = direct_data.reset_index()\n",
    "direct_data = direct_data.drop(columns={'Director'})\n",
    "direct_data = direct_data.rename(columns={\"Director's Popularity\":'Directors Popularity'})\n",
    "direct_data = direct_data.groupby(\"Directors Popularity\").mean()\n",
    "direct_data = direct_data.reset_index()\n",
    "direct_data['Revenue (Millions)'] = round(direct_data['Revenue (Millions)']/1000000,0)\n",
    "direct_data"
   ]
  },
  {
   "cell_type": "code",
   "execution_count": null,
   "id": "306b5027",
   "metadata": {},
   "outputs": [],
   "source": [
    "direct_data"
   ]
  },
  {
   "cell_type": "code",
   "execution_count": null,
   "id": "f9204051",
   "metadata": {},
   "outputs": [],
   "source": [
    "binned_popularity = pd.cut(direct_data['Directors Popularity'], bins=5)"
   ]
  },
  {
   "cell_type": "code",
   "execution_count": null,
   "id": "949c5d0b",
   "metadata": {},
   "outputs": [],
   "source": [
    "grouped_df = direct_data.groupby(binned_popularity)['Revenue (Millions)'].mean().reset_index()\n",
    "grouped_df"
   ]
  },
  {
   "cell_type": "code",
   "execution_count": null,
   "id": "bb931060",
   "metadata": {},
   "outputs": [],
   "source": []
  },
  {
   "cell_type": "code",
   "execution_count": null,
   "id": "9fbbf433",
   "metadata": {},
   "outputs": [],
   "source": []
  },
  {
   "cell_type": "code",
   "execution_count": null,
   "id": "6d55b1c1",
   "metadata": {},
   "outputs": [],
   "source": []
  },
  {
   "cell_type": "code",
   "execution_count": null,
   "id": "aa2f7fc2",
   "metadata": {},
   "outputs": [],
   "source": [
    "plt.figure(figsize=(14,11))\n",
    "sns.set(style=\"ticks\", context=\"talk\")\n",
    "plt.style.use(\"dark_background\")\n",
    "\n",
    "\n",
    "bar = sns.barplot(x='Directors Popularity', y='Revenue (Millions)', data=direct_data, color='#F9C31A', ci=False);\n",
    "\n",
    "for x in range(len(means)):\n",
    "    bar.text(x,means[x]+2.5, str(round(means[x],0)),\n",
    "            fontdict = dict(color='white', fontsize=18),\n",
    "            horizontalalignment = 'center')"
   ]
  },
  {
   "cell_type": "code",
   "execution_count": null,
   "id": "745c77c6",
   "metadata": {},
   "outputs": [],
   "source": []
  }
 ],
 "metadata": {
  "kernelspec": {
   "display_name": "Python 3 (ipykernel)",
   "language": "python",
   "name": "python3"
  },
  "language_info": {
   "codemirror_mode": {
    "name": "ipython",
    "version": 3
   },
   "file_extension": ".py",
   "mimetype": "text/x-python",
   "name": "python",
   "nbconvert_exporter": "python",
   "pygments_lexer": "ipython3",
   "version": "3.9.12"
  }
 },
 "nbformat": 4,
 "nbformat_minor": 5
}
