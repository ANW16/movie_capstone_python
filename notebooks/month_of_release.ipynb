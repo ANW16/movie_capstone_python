{
 "cells": [
  {
   "cell_type": "code",
   "execution_count": null,
   "id": "be94ee25",
   "metadata": {},
   "outputs": [],
   "source": [
    "import pandas as pd\n",
    "import requests\n",
    "import matplotlib.pyplot as plt\n",
    "import matplotlib\n",
    "import seaborn as sns\n",
    "import numpy as np\n",
    "from numpy import mean\n",
    "import json\n",
    "import gzip\n",
    "from subprocess import check_output\n",
    "import math\n",
    "import ast\n",
    "%matplotlib inline"
   ]
  },
  {
   "cell_type": "code",
   "execution_count": null,
   "id": "4b9be647",
   "metadata": {},
   "outputs": [],
   "source": [
    "production_df = pd.read_excel('../data/tmdb_production_data.xlsx', index_col=0)\n",
    "movie_df = pd.read_excel('../data/tmdb_movie_data.xlsx', index_col=0)\n",
    "genre_df = pd.read_excel('../data/movie_genres_data.xlsx', index_col=0)"
   ]
  },
  {
   "cell_type": "code",
   "execution_count": null,
   "id": "2952969e",
   "metadata": {},
   "outputs": [],
   "source": [
    "revenue = production_df[['movie_title', 'movie_revenue']]\n",
    "revenue = revenue[revenue['movie_revenue'] != 0]\n",
    "revenue"
   ]
  },
  {
   "cell_type": "code",
   "execution_count": null,
   "id": "41bca9a6",
   "metadata": {},
   "outputs": [],
   "source": [
    "movie_ids = movie_df[['movie_id', 'movie_title' , 'movie_release_month']]\n",
    "movie_ids"
   ]
  },
  {
   "cell_type": "code",
   "execution_count": null,
   "id": "8a02ca01",
   "metadata": {},
   "outputs": [],
   "source": [
    "revenue_ids = revenue.merge(movie_ids)\n",
    "revenue_ids = revenue_ids[revenue_ids['movie_revenue'] != 0]\n",
    "revenue_ids = revenue_ids.drop(columns={'movie_title'})\n",
    "revenue_ids"
   ]
  },
  {
   "cell_type": "code",
   "execution_count": null,
   "id": "21462a2e",
   "metadata": {},
   "outputs": [],
   "source": [
    "revenue_month = revenue_ids.drop(columns={'movie_id'})\n",
    "revenue_month.head()"
   ]
  },
  {
   "cell_type": "code",
   "execution_count": null,
   "id": "82d77c01",
   "metadata": {},
   "outputs": [],
   "source": [
    "revenue_by_month = revenue_month.groupby('movie_release_month').sum()"
   ]
  },
  {
   "cell_type": "code",
   "execution_count": null,
   "id": "873e2dbd",
   "metadata": {},
   "outputs": [],
   "source": [
    "revenue_by_month.reset_index(inplace=True)"
   ]
  },
  {
   "cell_type": "code",
   "execution_count": null,
   "id": "b8ac5aa6",
   "metadata": {},
   "outputs": [],
   "source": [
    "revenue_by_month = revenue_by_month.rename(columns={'movie_revenue': 'Sum of Revenue (Billions)', 'movie_release_month':'Month of Release'})\n",
    "revenue_by_month['Sum of Revenue (Billions)'] = round(revenue_by_month['Sum of Revenue (Billions)']/1000000000,0)\n",
    "revenue_by_month"
   ]
  },
  {
   "cell_type": "code",
   "execution_count": null,
   "id": "39cdff2c",
   "metadata": {},
   "outputs": [],
   "source": [
    "revenue_by_month['Month of Release'] = pd.to_datetime(revenue_by_month['Month of Release'], format='%m').dt.month_name()\n",
    "revenue_by_month"
   ]
  },
  {
   "cell_type": "code",
   "execution_count": null,
   "id": "815efa72",
   "metadata": {},
   "outputs": [],
   "source": [
    "plt.figure(figsize=(20,11))\n",
    "sns.set(style=\"ticks\", context=\"talk\")\n",
    "plt.style.use(\"dark_background\")\n",
    "\n",
    "sns.lineplot(data=revenue_by_month, x=\"Month of Release\", y=\"Sum of Revenue (Billions)\", ci=False);"
   ]
  },
  {
   "cell_type": "code",
   "execution_count": null,
   "id": "dc95669d",
   "metadata": {},
   "outputs": [],
   "source": [
    "revenue_ids = revenue.merge(movie_ids)\n",
    "revenue_ids = revenue_ids[revenue_ids['movie_revenue'] != 0]\n",
    "revenue_ids = revenue_ids.drop(columns={'movie_title'})\n",
    "revenue_ids"
   ]
  },
  {
   "cell_type": "code",
   "execution_count": null,
   "id": "935e6c97",
   "metadata": {},
   "outputs": [],
   "source": [
    "revenue_genre = revenue_ids.merge(genre_df)\n",
    "\n",
    "animation_movies = revenue_genre[revenue_genre['Animation'] == 1]\n",
    "animation_movies"
   ]
  },
  {
   "cell_type": "code",
   "execution_count": null,
   "id": "5e3157a5",
   "metadata": {},
   "outputs": [],
   "source": [
    "animation_movies = animation_movies.drop(columns={'Action', 'Adventure', 'Animation', 'Comedy', 'Crime', 'Drama', 'Family', 'Fantasy', 'History', 'Horror', 'Music', 'Mystery', 'Romance', 'Science Fiction', 'TV Movie', 'Thriller', 'War', 'Western'})\n",
    "animation_movies"
   ]
  },
  {
   "cell_type": "code",
   "execution_count": null,
   "id": "c396c80b",
   "metadata": {},
   "outputs": [],
   "source": [
    "animation_movies = animation_movies.drop(columns={'movie_id', 'genre'})\n",
    "animation_movies"
   ]
  },
  {
   "cell_type": "code",
   "execution_count": null,
   "id": "87ab11cb",
   "metadata": {},
   "outputs": [],
   "source": [
    "animation_months = animation_movies.groupby('movie_release_month').sum()\n",
    "animation_months"
   ]
  },
  {
   "cell_type": "code",
   "execution_count": null,
   "id": "29a7d6c1",
   "metadata": {},
   "outputs": [],
   "source": [
    "animation_months.reset_index(inplace=True)"
   ]
  },
  {
   "cell_type": "code",
   "execution_count": null,
   "id": "cc23e0e0",
   "metadata": {},
   "outputs": [],
   "source": [
    "animation_months = animation_months.rename(columns={'movie_revenue': 'Sum of Revenue (Billions)', 'movie_release_month':'Month of Release'})\n",
    "animation_months['Sum of Revenue (Billions)'] = round(animation_months['Sum of Revenue (Billions)']/1000000000,0)\n",
    "animation_months"
   ]
  },
  {
   "cell_type": "code",
   "execution_count": null,
   "id": "346e38a8",
   "metadata": {},
   "outputs": [],
   "source": [
    "animation_months['Month of Release'] = pd.to_datetime(animation_months['Month of Release'], format='%m').dt.month_name()\n",
    "animation_months"
   ]
  },
  {
   "cell_type": "code",
   "execution_count": null,
   "id": "65f9aaf1",
   "metadata": {},
   "outputs": [],
   "source": [
    "plt.figure(figsize=(20,11))\n",
    "sns.set(style=\"ticks\", context=\"talk\")\n",
    "plt.style.use(\"dark_background\")\n",
    "\n",
    "sns.lineplot(data=animation_months, x=\"Month of Release\", y=\"Sum of Revenue (Billions)\", ci=False);"
   ]
  },
  {
   "cell_type": "code",
   "execution_count": null,
   "id": "34a63da8",
   "metadata": {},
   "outputs": [],
   "source": []
  }
 ],
 "metadata": {
  "kernelspec": {
   "display_name": "Python 3 (ipykernel)",
   "language": "python",
   "name": "python3"
  },
  "language_info": {
   "codemirror_mode": {
    "name": "ipython",
    "version": 3
   },
   "file_extension": ".py",
   "mimetype": "text/x-python",
   "name": "python",
   "nbconvert_exporter": "python",
   "pygments_lexer": "ipython3",
   "version": "3.9.12"
  }
 },
 "nbformat": 4,
 "nbformat_minor": 5
}
