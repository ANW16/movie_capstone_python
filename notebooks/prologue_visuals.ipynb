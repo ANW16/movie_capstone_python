{
 "cells": [
  {
   "cell_type": "code",
   "execution_count": null,
   "id": "3b001f39",
   "metadata": {},
   "outputs": [],
   "source": [
    "import pandas as pd\n",
    "import requests\n",
    "import matplotlib.pyplot as plt\n",
    "import matplotlib\n",
    "import seaborn as sns\n",
    "import numpy as np\n",
    "from numpy import mean\n",
    "import json\n",
    "import gzip\n",
    "from subprocess import check_output\n",
    "import math\n",
    "import ast\n",
    "from matplotlib.lines import Line2D\n",
    "%matplotlib inline"
   ]
  },
  {
   "cell_type": "code",
   "execution_count": null,
   "id": "9f9646c4",
   "metadata": {},
   "outputs": [],
   "source": [
    "production_df = pd.read_excel('../data/tmdb_production_data.xlsx', index_col=0)\n",
    "movie_df = pd.read_excel('../data/tmdb_movie_data.xlsx', index_col=0)\n",
    "genre_df = pd.read_excel('../data/movie_genres_data.xlsx', index_col=0)"
   ]
  },
  {
   "cell_type": "code",
   "execution_count": null,
   "id": "7cb0f39d",
   "metadata": {},
   "outputs": [],
   "source": [
    "movie_money = production_df[['movie_title', 'movie_budget', 'movie_revenue', 'movie_profits']]\n",
    "movie_money"
   ]
  },
  {
   "cell_type": "code",
   "execution_count": null,
   "id": "180e5c55",
   "metadata": {},
   "outputs": [],
   "source": [
    "movie_profits = movie_money.copy(deep=True)\n",
    "movie_profits = movie_profits[movie_profits['movie_budget']>0]\n",
    "movie_profits = movie_profits[movie_profits['movie_revenue']>0]\n",
    "movie_profits = movie_profits.drop(columns={'movie_budget', 'movie_revenue'})\n",
    "movie_profits"
   ]
  },
  {
   "cell_type": "code",
   "execution_count": null,
   "id": "44861757",
   "metadata": {},
   "outputs": [],
   "source": [
    "all_yearly_releases = movie_df[['movie_title', 'movie_release_year']]\n",
    "all_yearly_releases"
   ]
  },
  {
   "cell_type": "code",
   "execution_count": null,
   "id": "c3f3fcf9",
   "metadata": {},
   "outputs": [],
   "source": [
    "yearly_profit_releases = movie_profits.merge(all_yearly_releases)\n",
    "yearly_profit_releases = yearly_profit_releases.drop(columns={'movie_title'})\n",
    "yearly_profit_releases = yearly_profit_releases.groupby('movie_release_year').sum()\n",
    "yearly_profit_releases.reset_index(inplace=True)\n",
    "yearly_profit_releases['movie_profits'] = yearly_profit_releases['movie_profits']/1000000000\n",
    "yearly_profit_releases.rename(columns={'movie_release_year':'Year Released', 'movie_profits':'Sum Profits (Billions)'}, inplace=True) \n",
    "yearly_profit_releases"
   ]
  },
  {
   "cell_type": "code",
   "execution_count": null,
   "id": "c8763b74",
   "metadata": {},
   "outputs": [],
   "source": [
    "plt.figure(figsize=(14,11))\n",
    "sns.set(style=\"ticks\", context=\"talk\")\n",
    "plt.style.use(\"dark_background\")\n",
    "\n",
    "sns.lineplot(data=yearly_profit_releases, x=\"Year Released\", y=\"Sum Profits (Billions)\", ci=False);"
   ]
  },
  {
   "cell_type": "code",
   "execution_count": null,
   "id": "15399ff9",
   "metadata": {},
   "outputs": [],
   "source": [
    "yearly_releases = movie_df[['movie_title', 'movie_release_year']]\n",
    "yearly_releases = yearly_releases.groupby('movie_release_year').count()\n",
    "yearly_releases.reset_index(inplace=True)\n",
    "yearly_releases.rename(columns={'movie_release_year':'Year Released', 'movie_title':'Number of Movies Released'}, inplace=True)\n",
    "yearly_releases"
   ]
  },
  {
   "cell_type": "code",
   "execution_count": null,
   "id": "bd2ddae6",
   "metadata": {},
   "outputs": [],
   "source": [
    "plt.figure(figsize=(14,11))\n",
    "sns.set(style=\"ticks\", context=\"talk\")\n",
    "plt.style.use(\"dark_background\")\n",
    "\n",
    "sns.lineplot(data=yearly_releases, x=\"Year Released\", y=\"Number of Movies Released\", ci=False);"
   ]
  },
  {
   "cell_type": "code",
   "execution_count": null,
   "id": "31c6f2ae",
   "metadata": {
    "scrolled": true
   },
   "outputs": [],
   "source": [
    "merged_yearly_releases = yearly_releases.merge(yearly_profit_releases, how='left')\n",
    "merged_yearly_releases.set_index('Year Released', inplace=True)\n",
    "merged_yearly_releases"
   ]
  },
  {
   "cell_type": "code",
   "execution_count": null,
   "id": "b0069232",
   "metadata": {},
   "outputs": [],
   "source": [
    "plt.figure(figsize=(14,11))\n",
    "sns.set(style=\"ticks\", context=\"talk\")\n",
    "plt.style.use(\"dark_background\")\n",
    "\n",
    "g = sns.lineplot(data=merged_yearly_releases['Number of Movies Released'], color=\"yellow\")\n",
    "sns.lineplot(data=merged_yearly_releases['Sum Profits (Billions)'], color=\"g\", ax=g.axes.twinx())\n",
    "g.legend(handles=[Line2D([], [], marker='_', color=\"yellow\", label='Number of Movies Released'), Line2D([], [], marker='_', color=\"g\", label='Sum Profits')]);"
   ]
  },
  {
   "cell_type": "markdown",
   "id": "fde15249",
   "metadata": {},
   "source": [
    "## Profit over last 5 years"
   ]
  },
  {
   "cell_type": "code",
   "execution_count": null,
   "id": "8a07d3de",
   "metadata": {},
   "outputs": [],
   "source": [
    "year_month_releases = movie_df[['movie_title', 'movie_release_year', 'movie_release_month']]\n",
    "year_month_releases"
   ]
  },
  {
   "cell_type": "code",
   "execution_count": null,
   "id": "35cc61e7",
   "metadata": {},
   "outputs": [],
   "source": [
    "last_five_years = year_month_releases[year_month_releases['movie_release_year'] > 2017]\n",
    "last_five_years"
   ]
  },
  {
   "cell_type": "code",
   "execution_count": null,
   "id": "0668d78b",
   "metadata": {},
   "outputs": [],
   "source": [
    "five_year_profits['date'] = pd.to_datetime(five_year_profits['movie_release_year'] + '-' + five_year_profits['movie_release_month'].astype(str) + '-01')"
   ]
  },
  {
   "cell_type": "code",
   "execution_count": null,
   "id": "545dd8c7",
   "metadata": {},
   "outputs": [],
   "source": [
    "five_year_profits = last_five_years.merge(movie_profits, how='left')\n",
    "five_year_profits = five_year_profits.drop(columns={'movie_title'})\n",
    "five_year_profits = five_year_profits.groupby(['movie_release_month', 'movie_release_year']).sum()\n",
    "five_year_profits.reset_index(inplace=True)\n",
    "five_year_profits['movie_release_year'] = five_year_profits['movie_release_year'].astype(int).astype(str)\n",
    "five_year_profits['movie_release_month'] = five_year_profits['movie_release_month'].astype(int).astype(str).str.zfill(2)\n",
    "five_year_profits.head(5)"
   ]
  },
  {
   "cell_type": "code",
   "execution_count": null,
   "id": "9f704cbe",
   "metadata": {},
   "outputs": [],
   "source": [
    "five_year_profits['date'] = pd.to_datetime(five_year_profits['movie_release_year'] + '-' + five_year_profits['movie_release_month'] + '-01')\n",
    "five_year_profits.head()"
   ]
  },
  {
   "cell_type": "code",
   "execution_count": null,
   "id": "53425727",
   "metadata": {},
   "outputs": [],
   "source": [
    "five_year_profits['movie_profits'] = five_year_profits['movie_profits']/1000000000\n",
    "five_year_profits.rename(columns={'movie_release_year':'Year Released', 'movie_profits':'Sum Profits (Billions)', 'movie_release_month':'Month Released', 'date':'Date of Release'}, inplace=True) \n",
    "five_year_profits.head()"
   ]
  },
  {
   "cell_type": "code",
   "execution_count": null,
   "id": "eb1df09a",
   "metadata": {},
   "outputs": [],
   "source": [
    "plt.figure(figsize=(14,11))\n",
    "sns.set(style=\"ticks\", context=\"talk\")\n",
    "plt.style.use(\"dark_background\")\n",
    "\n",
    "sns.lineplot(data=five_year_profits, x=\"Date of Release\", y=\"Sum Profits (Billions)\", ci=False);"
   ]
  },
  {
   "cell_type": "markdown",
   "id": "5e1effa3",
   "metadata": {},
   "source": [
    "## Budget over time"
   ]
  },
  {
   "cell_type": "code",
   "execution_count": null,
   "id": "b1a88379",
   "metadata": {},
   "outputs": [],
   "source": [
    "movie_budget = movie_money.copy(deep=True)\n",
    "movie_budget = movie_budget[movie_budget['movie_budget']>0]\n",
    "movie_budget = movie_budget[movie_budget['movie_revenue']>0]\n",
    "movie_budget = movie_budget.drop(columns={'movie_profits', 'movie_revenue'})\n",
    "movie_budget"
   ]
  },
  {
   "cell_type": "code",
   "execution_count": null,
   "id": "afc1c4e5",
   "metadata": {},
   "outputs": [],
   "source": [
    "yearly_budget_releases = movie_budget.merge(all_yearly_releases)\n",
    "yearly_budget_releases = yearly_budget_releases.drop(columns={'movie_title'})\n",
    "yearly_budget_releases = yearly_budget_releases.groupby('movie_release_year').sum()\n",
    "yearly_budget_releases.reset_index(inplace=True)\n",
    "yearly_budget_releases['movie_budget'] = yearly_budget_releases['movie_budget']/1000000000\n",
    "yearly_budget_releases.rename(columns={'movie_release_year':'Year Released', 'movie_budget':'Sum of Budgets (Billions)'}, inplace=True) \n",
    "yearly_budget_releases"
   ]
  },
  {
   "cell_type": "code",
   "execution_count": null,
   "id": "0122033c",
   "metadata": {},
   "outputs": [],
   "source": [
    "plt.figure(figsize=(14,11))\n",
    "sns.set(style=\"ticks\", context=\"talk\")\n",
    "plt.style.use(\"dark_background\")\n",
    "\n",
    "sns.lineplot(data=yearly_budget_releases, x=\"Year Released\", y=\"Sum of Budgets (Billions)\", ci=False);"
   ]
  },
  {
   "cell_type": "code",
   "execution_count": null,
   "id": "67246e20",
   "metadata": {},
   "outputs": [],
   "source": [
    "merged_yearly_spending = yearly_budget_releases.merge(yearly_profit_releases, how='inner')\n",
    "merged_yearly_spending.set_index('Year Released', inplace=True)\n",
    "merged_yearly_spending"
   ]
  },
  {
   "cell_type": "code",
   "execution_count": null,
   "id": "471e239d",
   "metadata": {},
   "outputs": [],
   "source": [
    "yearly_budget = merged_yearly_spending.copy(deep=True)\n",
    "yearly_budget = yearly_budget.drop(columns={'Sum Profits (Billions)'})\n",
    "yearly_budget.reset_index(inplace=True)\n",
    "yearly_budget"
   ]
  },
  {
   "cell_type": "code",
   "execution_count": null,
   "id": "daeee496",
   "metadata": {},
   "outputs": [],
   "source": [
    "yearly_profits = merged_yearly_spending.copy(deep=True)\n",
    "yearly_profits = yearly_profits.drop(columns={'Sum of Budgets (Billions)'})\n",
    "yearly_profits.reset_index(inplace=True)\n",
    "yearly_profits"
   ]
  },
  {
   "cell_type": "code",
   "execution_count": null,
   "id": "b32c7d13",
   "metadata": {},
   "outputs": [],
   "source": [
    "plt.figure(figsize=(14,11))\n",
    "sns.set(style=\"ticks\", context=\"talk\")\n",
    "plt.style.use(\"dark_background\")\n",
    "\n",
    "g = sns.lineplot(data=yearly_budget, x='Year Released', y='Sum of Budgets (Billions)', color='r')\n",
    "\n",
    "sns.lineplot(data=yearly_profits, x='Year Released', y='Sum Profits (Billions)', color='g', ax=g)\n",
    "\n",
    "\n",
    "plt.ylabel('USD $ (Billions)')\n",
    "g.legend(handles=[Line2D([], [], marker='_', color=\"red\", label='Sum of Budgets'), Line2D([], [], marker='_', color=\"g\", label='Sum Profits')]);"
   ]
  },
  {
   "cell_type": "code",
   "execution_count": null,
   "id": "8e205125",
   "metadata": {},
   "outputs": [],
   "source": []
  }
 ],
 "metadata": {
  "kernelspec": {
   "display_name": "Python 3 (ipykernel)",
   "language": "python",
   "name": "python3"
  },
  "language_info": {
   "codemirror_mode": {
    "name": "ipython",
    "version": 3
   },
   "file_extension": ".py",
   "mimetype": "text/x-python",
   "name": "python",
   "nbconvert_exporter": "python",
   "pygments_lexer": "ipython3",
   "version": "3.9.12"
  }
 },
 "nbformat": 4,
 "nbformat_minor": 5
}
