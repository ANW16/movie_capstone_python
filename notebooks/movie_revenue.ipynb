{
 "cells": [
  {
   "cell_type": "code",
   "execution_count": null,
   "id": "bbbaf8ac",
   "metadata": {},
   "outputs": [],
   "source": [
    "import pandas as pd\n",
    "import requests\n",
    "import matplotlib.pyplot as plt\n",
    "import seaborn as sns\n",
    "import numpy as np\n",
    "import json\n",
    "import gzip\n",
    "from scipy import stats\n",
    "from subprocess import check_output\n",
    "%matplotlib inline"
   ]
  },
  {
   "cell_type": "code",
   "execution_count": null,
   "id": "0292f155",
   "metadata": {},
   "outputs": [],
   "source": [
    "production_df = pd.read_excel('../data/tmdb_production_data.xlsx', index_col=0)\n",
    "movie_df = pd.read_excel('../data/tmdb_movie_data.xlsx', index_col=0)\n",
    "genre_df = pd.read_excel('../data/movie_genres_data.xlsx', index_col=0)"
   ]
  },
  {
   "cell_type": "code",
   "execution_count": null,
   "id": "876b6500",
   "metadata": {},
   "outputs": [],
   "source": [
    "genre_list = ['Action', 'Adventure', 'Animation', 'Comedy', 'Crime', 'Drama', 'Family', 'Fantasy', 'History', 'Horror', 'Music', 'Mystery', 'Romance', 'Science Fiction', 'TV Movie', 'Thriller', 'War', 'Western']"
   ]
  },
  {
   "cell_type": "code",
   "execution_count": null,
   "id": "530bd7e6",
   "metadata": {},
   "outputs": [],
   "source": [
    "movie_production_df = production_df.merge(movie_df, how='inner', on='movie_title')\n",
    "drop_budget = movie_production_df.index[movie_production_df[\"movie_budget\"] == 0].tolist()\n",
    "drop_revenue = movie_production_df.index[movie_production_df[\"movie_revenue\"] == 0].tolist()\n",
    "drop_both = drop_budget+drop_revenue\n",
    "movie_production_df = movie_production_df.drop(movie_production_df.index[drop_both])\n",
    "movie_production_df = movie_production_df.sort_values('movie_vote_count', ascending=False).drop_duplicates('movie_id').sort_index()\n",
    "movie_production_df"
   ]
  },
  {
   "cell_type": "code",
   "execution_count": null,
   "id": "cd5e8671",
   "metadata": {},
   "outputs": [],
   "source": [
    "rev_pop = movie_production_df[['movie_revenue', 'movie_popularity']]\n",
    "rev_pop['movie_popularity'] = round(rev_pop['movie_popularity'], 0)\n",
    "rev_pop.reset_index(inplace=True)\n",
    "rev_pop.drop(columns='index', inplace=True)\n",
    "rev_pop"
   ]
  },
  {
   "cell_type": "code",
   "execution_count": null,
   "id": "b34ab673",
   "metadata": {},
   "outputs": [],
   "source": [
    "z = np.abs(stats.zscore(rev_pop['movie_popularity']))\n",
    "outliers = (np.where(z > 3))[0]\n",
    "outliers"
   ]
  },
  {
   "cell_type": "code",
   "execution_count": null,
   "id": "8909f751",
   "metadata": {},
   "outputs": [],
   "source": [
    "for x in outliers:\n",
    "    rev_pop.drop([x], axis=0, inplace=True)\n",
    "rev_pop"
   ]
  },
  {
   "cell_type": "code",
   "execution_count": null,
   "id": "018aa211",
   "metadata": {},
   "outputs": [],
   "source": [
    "rev_pop['normalized_popularity'] = (rev_pop['movie_popularity'] - rev_pop['movie_popularity'].min()) / (rev_pop['movie_popularity'].max() - rev_pop['movie_popularity'].min()) \n",
    "rev_pop['normalized_popularity'] = round(rev_pop['normalized_popularity'] * 100, 0)\n",
    "rev_pop"
   ]
  },
  {
   "cell_type": "code",
   "execution_count": null,
   "id": "f705b771",
   "metadata": {},
   "outputs": [],
   "source": [
    "test = rev_pop[['normalized_popularity', 'movie_revenue']]\n",
    "test['normalized_popularity'] = rounded = round(test['normalized_popularity']/10)*10\n",
    "test = test.groupby('normalized_popularity').mean()\n",
    "test['movie_revenue'] = round(test['movie_revenue']/1000000, 0)\n",
    "test"
   ]
  },
  {
   "cell_type": "code",
   "execution_count": null,
   "id": "c59e44d8",
   "metadata": {},
   "outputs": [],
   "source": [
    "test['movie_revenue'].plot(kind = 'bar')"
   ]
  },
  {
   "cell_type": "code",
   "execution_count": null,
   "id": "269272f5",
   "metadata": {},
   "outputs": [],
   "source": []
  }
 ],
 "metadata": {
  "kernelspec": {
   "display_name": "Python 3 (ipykernel)",
   "language": "python",
   "name": "python3"
  },
  "language_info": {
   "codemirror_mode": {
    "name": "ipython",
    "version": 3
   },
   "file_extension": ".py",
   "mimetype": "text/x-python",
   "name": "python",
   "nbconvert_exporter": "python",
   "pygments_lexer": "ipython3",
   "version": "3.9.12"
  }
 },
 "nbformat": 4,
 "nbformat_minor": 5
}
