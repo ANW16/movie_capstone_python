{
 "cells": [
  {
   "cell_type": "code",
   "execution_count": null,
   "id": "32cb4d42",
   "metadata": {},
   "outputs": [],
   "source": [
    "import pandas as pd\n",
    "import requests\n",
    "import matplotlib.pyplot as plt\n",
    "import seaborn as sns\n",
    "import numpy as np\n",
    "import json\n",
    "import gzip\n",
    "from subprocess import check_output\n",
    "%matplotlib inline"
   ]
  },
  {
   "cell_type": "code",
   "execution_count": null,
   "id": "365f3258",
   "metadata": {},
   "outputs": [],
   "source": [
    "production_df = pd.read_excel('../data/tmdb_production_data.xlsx', index_col=0)\n",
    "movie_df = pd.read_excel('../data/tmdb_movie_data.xlsx', index_col=0)\n",
    "genre_df = pd.read_excel('../data/movie_genres_data.xlsx', index_col=0)"
   ]
  },
  {
   "cell_type": "code",
   "execution_count": null,
   "id": "94ad13d3",
   "metadata": {},
   "outputs": [],
   "source": [
    "movie_df"
   ]
  },
  {
   "cell_type": "markdown",
   "id": "23b0ff00",
   "metadata": {},
   "source": [
    "### Avgerage rating for a film is 7.4"
   ]
  },
  {
   "cell_type": "code",
   "execution_count": null,
   "id": "a470bea0",
   "metadata": {},
   "outputs": [],
   "source": [
    "round(movie_df['movie_avg_vote'].mean(),2)"
   ]
  },
  {
   "cell_type": "markdown",
   "id": "8cea651c",
   "metadata": {},
   "source": [
    "### Average popularity for a film is 31.88"
   ]
  },
  {
   "cell_type": "code",
   "execution_count": null,
   "id": "fc1cdddd",
   "metadata": {},
   "outputs": [],
   "source": [
    "round(movie_df['movie_popularity'].mean(),2)"
   ]
  },
  {
   "cell_type": "code",
   "execution_count": null,
   "id": "f40c5228",
   "metadata": {},
   "outputs": [],
   "source": [
    "recent_movies = movie_df.loc[movie_df['movie_release_year'] >= 2017]"
   ]
  },
  {
   "cell_type": "markdown",
   "id": "422e35ac",
   "metadata": {},
   "source": [
    "### Avgerage popularity for films released in the last 5 years is 69.39"
   ]
  },
  {
   "cell_type": "code",
   "execution_count": null,
   "id": "40f274aa",
   "metadata": {},
   "outputs": [],
   "source": [
    "round(recent_movies['movie_popularity'].mean(),2)"
   ]
  },
  {
   "cell_type": "code",
   "execution_count": null,
   "id": "98a444c6",
   "metadata": {
    "scrolled": true
   },
   "outputs": [],
   "source": [
    "movie_genre_df = pd.merge(movie_df, genre_df)\n",
    "display(movie_genre_df)"
   ]
  },
  {
   "cell_type": "code",
   "execution_count": null,
   "id": "516e3b1e",
   "metadata": {},
   "outputs": [],
   "source": [
    "movie_genre_df.info()"
   ]
  },
  {
   "cell_type": "code",
   "execution_count": null,
   "id": "6b7460d5",
   "metadata": {},
   "outputs": [],
   "source": [
    "action_count = movie_genre_df['Action'].sum()"
   ]
  },
  {
   "cell_type": "code",
   "execution_count": null,
   "id": "45437778",
   "metadata": {},
   "outputs": [],
   "source": [
    "adventure_count = movie_genre_df['Adventure'].sum()"
   ]
  },
  {
   "cell_type": "code",
   "execution_count": null,
   "id": "88049f2c",
   "metadata": {},
   "outputs": [],
   "source": [
    "animation_count = movie_genre_df['Animation'].sum()"
   ]
  },
  {
   "cell_type": "code",
   "execution_count": null,
   "id": "3355f644",
   "metadata": {},
   "outputs": [],
   "source": [
    "comedy_count = movie_genre_df['Comedy'].sum()"
   ]
  },
  {
   "cell_type": "code",
   "execution_count": null,
   "id": "f3578a2a",
   "metadata": {},
   "outputs": [],
   "source": [
    "crime_count = movie_genre_df['Crime'].sum()"
   ]
  },
  {
   "cell_type": "code",
   "execution_count": null,
   "id": "14d224eb",
   "metadata": {},
   "outputs": [],
   "source": [
    "drama_count = movie_genre_df['Drama'].sum()"
   ]
  },
  {
   "cell_type": "code",
   "execution_count": null,
   "id": "5539db31",
   "metadata": {},
   "outputs": [],
   "source": [
    "family_count = movie_genre_df['Family'].sum()"
   ]
  },
  {
   "cell_type": "code",
   "execution_count": null,
   "id": "8a9f8775",
   "metadata": {},
   "outputs": [],
   "source": [
    "fantasy_count = movie_genre_df['Fantasy'].sum()"
   ]
  },
  {
   "cell_type": "code",
   "execution_count": null,
   "id": "ba2b2df8",
   "metadata": {},
   "outputs": [],
   "source": [
    "history_count = movie_genre_df['History'].sum()"
   ]
  },
  {
   "cell_type": "code",
   "execution_count": null,
   "id": "219b3a8d",
   "metadata": {},
   "outputs": [],
   "source": [
    "horror_count = movie_genre_df['Horror'].sum()"
   ]
  },
  {
   "cell_type": "code",
   "execution_count": null,
   "id": "e58a62ae",
   "metadata": {},
   "outputs": [],
   "source": [
    "music_count = movie_genre_df['Music'].sum()"
   ]
  },
  {
   "cell_type": "code",
   "execution_count": null,
   "id": "5be8d237",
   "metadata": {},
   "outputs": [],
   "source": [
    "mystery_count = movie_genre_df['Mystery'].sum()"
   ]
  },
  {
   "cell_type": "code",
   "execution_count": null,
   "id": "1c7a9da4",
   "metadata": {},
   "outputs": [],
   "source": [
    "romance_count = movie_genre_df['Romance'].sum()"
   ]
  },
  {
   "cell_type": "code",
   "execution_count": null,
   "id": "5bed2db7",
   "metadata": {},
   "outputs": [],
   "source": [
    "science_fiction_count = movie_genre_df['Science Fiction'].sum()"
   ]
  },
  {
   "cell_type": "code",
   "execution_count": null,
   "id": "206c2b6f",
   "metadata": {},
   "outputs": [],
   "source": [
    "tv_movie_count = movie_genre_df['TV Movie'].sum()"
   ]
  },
  {
   "cell_type": "code",
   "execution_count": null,
   "id": "6282d7e6",
   "metadata": {},
   "outputs": [],
   "source": [
    "thriller_count = movie_genre_df['Thriller'].sum()"
   ]
  },
  {
   "cell_type": "code",
   "execution_count": null,
   "id": "29cbde21",
   "metadata": {},
   "outputs": [],
   "source": [
    "war_count = movie_genre_df['War'].sum()"
   ]
  },
  {
   "cell_type": "code",
   "execution_count": null,
   "id": "74b68672",
   "metadata": {},
   "outputs": [],
   "source": [
    "western_count = movie_genre_df['Western'].sum()"
   ]
  },
  {
   "cell_type": "markdown",
   "id": "56651fc9",
   "metadata": {},
   "source": [
    "### Top 5 Genres by occurance: \n",
    "### 1.Drama (2,435) \n",
    "### 2.Comedy (1,170) \n",
    "### 3.Thriller (754) \n",
    "### 4.Romance (750) \n",
    "### 5.Action (738)"
   ]
  },
  {
   "cell_type": "code",
   "execution_count": null,
   "id": "fbb9b403",
   "metadata": {},
   "outputs": [],
   "source": [
    "movies_by_year = movie_genre_df[['movie_release_year']]\n",
    "movies_by_year = pd.DataFrame(movies_by_year.groupby('movie_release_year').size())\n",
    "movies_by_year = movies_by_year.loc[movies_by_year[0] > 0]\n",
    "movies_by_year = movies_by_year[movies_by_year[0] > 10]\n",
    "movies_by_year"
   ]
  },
  {
   "cell_type": "code",
   "execution_count": null,
   "id": "5c35d6fe",
   "metadata": {},
   "outputs": [],
   "source": [
    "top_genres = movie_genre_df[['movie_release_year', 'Drama', 'Comedy', 'Thriller', 'Romance', 'Action']]\n",
    "top_genres = top_genres.groupby('movie_release_year').sum()\n",
    "display(top_genres)"
   ]
  },
  {
   "cell_type": "code",
   "execution_count": null,
   "id": "8c7ccd6d",
   "metadata": {},
   "outputs": [],
   "source": [
    "result = top_genres.div(movies_by_year[0], axis=0)\n",
    "result"
   ]
  },
  {
   "cell_type": "markdown",
   "id": "e434660e",
   "metadata": {},
   "source": [
    "### Top 5 genre count over time"
   ]
  },
  {
   "cell_type": "code",
   "execution_count": null,
   "id": "52ebcb36",
   "metadata": {},
   "outputs": [],
   "source": [
    "plt.figure(figsize=(10,7))\n",
    "sns.lineplot(data=result)"
   ]
  },
  {
   "cell_type": "markdown",
   "id": "f19979a4",
   "metadata": {},
   "source": [
    "### All genres over time"
   ]
  },
  {
   "cell_type": "code",
   "execution_count": null,
   "id": "b139382c",
   "metadata": {},
   "outputs": [],
   "source": [
    "genres = movie_genre_df[['movie_release_year', 'Drama', 'Comedy', 'Thriller', 'Romance', 'Action', 'Adventure', 'Animation', 'Crime', 'Family', 'Science Fiction', 'Fantasy', 'History', 'Horror', 'Music', 'Mystery', 'TV Movie', 'War', 'Western']]\n",
    "genres = genres.groupby('movie_release_year').sum()\n",
    "display(genres)"
   ]
  },
  {
   "cell_type": "code",
   "execution_count": null,
   "id": "9cb8e90e",
   "metadata": {},
   "outputs": [],
   "source": [
    "plt.figure(figsize=(10,7))\n",
    "sns.lineplot(data=genres)"
   ]
  },
  {
   "cell_type": "markdown",
   "id": "7d247f3d",
   "metadata": {},
   "source": [
    "### genre popularity over time"
   ]
  },
  {
   "cell_type": "code",
   "execution_count": null,
   "id": "b0d50778",
   "metadata": {
    "scrolled": true
   },
   "outputs": [],
   "source": [
    "genre_popularity = movie_genre_df[['movie_release_year','movie_popularity', 'Drama', 'Comedy', 'Thriller', 'Romance', 'Action', 'Adventure', 'Animation', 'Crime', 'Family', 'Science Fiction', 'Fantasy', 'History', 'Horror', 'Music', 'Mystery', 'TV Movie', 'War', 'Western']]\n",
    "genre_popularity"
   ]
  },
  {
   "cell_type": "code",
   "execution_count": null,
   "id": "8f74ae31",
   "metadata": {},
   "outputs": [],
   "source": [
    "genre_popularity.rename(columns = {'Science Fiction':'Science_Fiction', 'TV Movie':'TV_Movie'}, inplace=True)"
   ]
  },
  {
   "cell_type": "code",
   "execution_count": null,
   "id": "1b451d97",
   "metadata": {
    "scrolled": false
   },
   "outputs": [],
   "source": [
    "yearly_genre_pop = genre_popularity.query('Action == 1')[['movie_release_year', 'movie_popularity']]\n",
    "yearly_genre_pop = round(yearly_genre_pop.groupby('movie_release_year').mean(), 2)\n",
    "yearly_genre_pop.rename(columns = {'movie_popularity':'Action Popularity'}, inplace=True)\n",
    "yearly_genre_pop['Adventure Popularity'] = round(genre_popularity.query('Adventure == 1')[['movie_release_year', 'movie_popularity']].groupby('movie_release_year').mean(), 2)\n",
    "yearly_genre_pop['Animation Popularity'] = round(genre_popularity.query('Animation == 1')[['movie_release_year', 'movie_popularity']].groupby('movie_release_year').mean(), 2)\n",
    "yearly_genre_pop['Comedy Popularity'] = round(genre_popularity.query('Comedy == 1')[['movie_release_year', 'movie_popularity']].groupby('movie_release_year').mean(), 2)\n",
    "yearly_genre_pop['Crime Popularity'] = round(genre_popularity.query('Crime == 1')[['movie_release_year', 'movie_popularity']].groupby('movie_release_year').mean(), 2)\n",
    "yearly_genre_pop['Drama Popularity'] = round(genre_popularity.query('Drama == 1')[['movie_release_year', 'movie_popularity']].groupby('movie_release_year').mean(), 2)\n",
    "yearly_genre_pop['Family Popularity'] = round(genre_popularity.query('Family == 1')[['movie_release_year', 'movie_popularity']].groupby('movie_release_year').mean(), 2)\n",
    "yearly_genre_pop['Fantasy Popularity'] = round(genre_popularity.query('Fantasy == 1')[['movie_release_year', 'movie_popularity']].groupby('movie_release_year').mean(), 2)\n",
    "yearly_genre_pop['History Popularity'] = round(genre_popularity.query('History == 1')[['movie_release_year', 'movie_popularity']].groupby('movie_release_year').mean(), 2)\n",
    "yearly_genre_pop['Horror Popularity'] = round(genre_popularity.query('Horror == 1')[['movie_release_year', 'movie_popularity']].groupby('movie_release_year').mean(), 2)\n",
    "yearly_genre_pop['Music Popularity'] = round(genre_popularity.query('Music == 1')[['movie_release_year', 'movie_popularity']].groupby('movie_release_year').mean(), 2)\n",
    "yearly_genre_pop['Mystery Popularity'] = round(genre_popularity.query('Mystery == 1')[['movie_release_year', 'movie_popularity']].groupby('movie_release_year').mean(), 2)\n",
    "yearly_genre_pop['Romance Popularity'] = round(genre_popularity.query('Romance == 1')[['movie_release_year', 'movie_popularity']].groupby('movie_release_year').mean(), 2)\n",
    "yearly_genre_pop['Science Fiction Popularity'] = round(genre_popularity.query('Science_Fiction == 1')[['movie_release_year', 'movie_popularity']].groupby('movie_release_year').mean(), 2)\n",
    "yearly_genre_pop['TV Movie Popularity'] = round(genre_popularity.query('TV_Movie == 1')[['movie_release_year', 'movie_popularity']].groupby('movie_release_year').mean(), 2)\n",
    "yearly_genre_pop['Thriller Popularity'] = round(genre_popularity.query('Thriller == 1')[['movie_release_year', 'movie_popularity']].groupby('movie_release_year').mean(), 2)\n",
    "yearly_genre_pop['War Popularity'] = round(genre_popularity.query('War == 1')[['movie_release_year', 'movie_popularity']].groupby('movie_release_year').mean(), 2)\n",
    "yearly_genre_pop['Western Popularity'] = round(genre_popularity.query('Western == 1')[['movie_release_year', 'movie_popularity']].groupby('movie_release_year').mean(), 2)\n",
    "yearly_genre_pop"
   ]
  },
  {
   "cell_type": "code",
   "execution_count": null,
   "id": "246bbff8",
   "metadata": {},
   "outputs": [],
   "source": [
    "plt.figure(figsize=(10,10))\n",
    "sns.lineplot(data=yearly_genre_pop)"
   ]
  }
 ],
 "metadata": {
  "kernelspec": {
   "display_name": "Python 3 (ipykernel)",
   "language": "python",
   "name": "python3"
  },
  "language_info": {
   "codemirror_mode": {
    "name": "ipython",
    "version": 3
   },
   "file_extension": ".py",
   "mimetype": "text/x-python",
   "name": "python",
   "nbconvert_exporter": "python",
   "pygments_lexer": "ipython3",
   "version": "3.9.12"
  }
 },
 "nbformat": 4,
 "nbformat_minor": 5
}
