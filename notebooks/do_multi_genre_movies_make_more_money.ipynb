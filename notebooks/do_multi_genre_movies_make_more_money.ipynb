{
 "cells": [
  {
   "cell_type": "code",
   "execution_count": null,
   "id": "64bc036a",
   "metadata": {},
   "outputs": [],
   "source": [
    "import pandas as pd\n",
    "import requests\n",
    "import matplotlib.pyplot as plt\n",
    "import seaborn as sns\n",
    "import numpy as np\n",
    "import json\n",
    "import gzip\n",
    "from subprocess import check_output\n",
    "import math\n",
    "%matplotlib inline"
   ]
  },
  {
   "cell_type": "code",
   "execution_count": null,
   "id": "03908f4b",
   "metadata": {},
   "outputs": [],
   "source": [
    "production_df = pd.read_excel('../data/tmdb_production_data.xlsx', index_col=0)\n",
    "movie_df = pd.read_excel('../data/tmdb_movie_data.xlsx', index_col=0)\n",
    "genre_df = pd.read_excel('../data/movie_genres_data.xlsx', index_col=0)"
   ]
  },
  {
   "cell_type": "code",
   "execution_count": null,
   "id": "0f29924d",
   "metadata": {},
   "outputs": [],
   "source": [
    "genre_df2 = genre_df"
   ]
  },
  {
   "cell_type": "code",
   "execution_count": null,
   "id": "aec116d1",
   "metadata": {},
   "outputs": [],
   "source": [
    "genre_list = ['Action', 'Adventure', 'Animation', 'Comedy', 'Crime', 'Drama', 'Family', 'Fantasy', 'History', 'Horror', 'Music', 'Mystery', 'Romance', 'Science Fiction', 'TV Movie', 'Thriller', 'War', 'Western']"
   ]
  },
  {
   "cell_type": "code",
   "execution_count": null,
   "id": "a2fb636e",
   "metadata": {},
   "outputs": [],
   "source": [
    "revenue = production_df[['movie_title', 'movie_revenue', 'movie_budget', 'movie_profits']]\n",
    "revenue = revenue[revenue['movie_revenue'] != 0]\n",
    "revenue = revenue[revenue['movie_budget'] != 0]\n",
    "revenue = revenue.drop(columns={'movie_revenue', 'movie_budget'})\n",
    "revenue"
   ]
  },
  {
   "cell_type": "code",
   "execution_count": null,
   "id": "3b07e281",
   "metadata": {},
   "outputs": [],
   "source": [
    "movie_ids = movie_df[['movie_id', 'movie_title']]\n",
    "movie_ids"
   ]
  },
  {
   "cell_type": "code",
   "execution_count": null,
   "id": "457633ea",
   "metadata": {},
   "outputs": [],
   "source": [
    "revenue_ids = revenue.merge(movie_ids)\n",
    "revenue_ids = revenue_ids[revenue_ids['movie_profits'] != 0]\n",
    "revenue_ids = revenue_ids.drop(columns={'movie_title'})\n",
    "revenue_ids"
   ]
  },
  {
   "cell_type": "code",
   "execution_count": null,
   "id": "25b7b755",
   "metadata": {},
   "outputs": [],
   "source": [
    "genre_df = genre_df.drop(columns={'Action', 'Adventure', 'Animation', 'Comedy', 'Crime', 'Drama', 'Family', 'Fantasy', 'History', 'Horror', 'Music', 'Mystery', 'Romance', 'Science Fiction', 'TV Movie', 'Thriller', 'War', 'Western'})\n",
    "genre_df"
   ]
  },
  {
   "cell_type": "code",
   "execution_count": null,
   "id": "b6b7b5bb",
   "metadata": {},
   "outputs": [],
   "source": [
    "x=0\n",
    "genre_count=[]\n",
    "while x < len(genre_df):\n",
    "    genre_count.append(len(genre_df['genre'][x].split(',')))\n",
    "    x=x+1\n",
    "genre_count"
   ]
  },
  {
   "cell_type": "code",
   "execution_count": null,
   "id": "831e4830",
   "metadata": {},
   "outputs": [],
   "source": [
    "genre_df['genre_count'] = genre_count\n",
    "genre_df"
   ]
  },
  {
   "cell_type": "code",
   "execution_count": null,
   "id": "121ee87f",
   "metadata": {},
   "outputs": [],
   "source": [
    "genre_count = revenue_ids.merge(genre_df)\n",
    "genre_count = genre_count.drop(columns={'movie_id', 'genre'})\n",
    "genre_count['movie_profits'] = round(genre_count['movie_profits']/1000000, 0)\n",
    "genre_count"
   ]
  },
  {
   "cell_type": "code",
   "execution_count": null,
   "id": "aac517cd",
   "metadata": {},
   "outputs": [],
   "source": [
    "box_data = genre_count"
   ]
  },
  {
   "cell_type": "code",
   "execution_count": null,
   "id": "bcaab513",
   "metadata": {},
   "outputs": [],
   "source": [
    "movie_count = genre_count.groupby('genre_count').count()\n",
    "movie_count = movie_count.rename(columns={'movie_profits':'movie_count'})\n",
    "movie_count"
   ]
  },
  {
   "cell_type": "code",
   "execution_count": null,
   "id": "a9ba3d8f",
   "metadata": {},
   "outputs": [],
   "source": [
    "genre_count = genre_count.groupby('genre_count').mean()"
   ]
  },
  {
   "cell_type": "code",
   "execution_count": null,
   "id": "edddb217",
   "metadata": {},
   "outputs": [],
   "source": [
    "data = genre_count.join(movie_count)\n",
    "data = data.reset_index()\n",
    "data = data.rename(columns={'genre_count':'Number of Genres', 'movie_profits':'Average Profits (Millions)', 'movie_count':'Number of Movies'})\n",
    "data = data[data['Number of Movies'] > 50]\n",
    "data"
   ]
  },
  {
   "cell_type": "code",
   "execution_count": null,
   "id": "6cc29ce5",
   "metadata": {},
   "outputs": [],
   "source": [
    "means = list(data['Average Profits (Millions)'])\n",
    "means = [int(i) for i in means]\n",
    "means"
   ]
  },
  {
   "cell_type": "code",
   "execution_count": null,
   "id": "ba5349e8",
   "metadata": {},
   "outputs": [],
   "source": [
    "plt.figure(figsize=(14,11))\n",
    "sns.set(style=\"ticks\", context=\"talk\")\n",
    "plt.style.use(\"dark_background\")\n",
    "\n",
    "bar = sns.barplot(x='Number of Genres', y='Average Profits (Millions)', data=data, color='#F9C31A', ci=False);\n",
    "\n",
    "for x in range(len(means)):\n",
    "    bar.text(x,means[x]+2.5, str(round(means[x],0)),\n",
    "            fontdict = dict(color='white', fontsize=18),\n",
    "            horizontalalignment = 'center')"
   ]
  },
  {
   "cell_type": "code",
   "execution_count": null,
   "id": "436f6f24",
   "metadata": {},
   "outputs": [],
   "source": [
    "box_data = box_data[box_data['genre_count']!=7]\n",
    "box_data = box_data[box_data['genre_count']!=6]\n",
    "box_data['movie_profits'] = box_data['movie_profits']/1000\n",
    "box_data"
   ]
  },
  {
   "cell_type": "code",
   "execution_count": null,
   "id": "e275fe6d",
   "metadata": {},
   "outputs": [],
   "source": [
    "plt.figure(figsize=(25,11))\n",
    "sns.set(style=\"ticks\", context=\"talk\")\n",
    "plt.style.use(\"dark_background\")\n",
    "\n",
    "box = sns.boxplot(y='genre_count', x='movie_profits', data=box_data, color='#F9C31A',  orient='h');\n",
    "box.set(ylabel=('Number of Genres'), xlabel=('Movie Profits (Billions)'))"
   ]
  },
  {
   "cell_type": "code",
   "execution_count": null,
   "id": "1dbf2552",
   "metadata": {},
   "outputs": [],
   "source": [
    "multi_genre = genre_df.merge(genre_df2)\n",
    "multi_genre = multi_genre.drop(columns={'movie_id', 'genre'})\n",
    "multi_genre = multi_genre[multi_genre['genre_count']==5]\n",
    "multi_genre"
   ]
  },
  {
   "cell_type": "code",
   "execution_count": null,
   "id": "5206ed41",
   "metadata": {},
   "outputs": [],
   "source": [
    "genres_5_count=[]\n",
    "\n",
    "for x in genre_list:\n",
    "    genres_5_count.append(multi_genre[x].value_counts()[1])\n",
    "genres_5_count"
   ]
  },
  {
   "cell_type": "code",
   "execution_count": null,
   "id": "e3d1fba4",
   "metadata": {},
   "outputs": [],
   "source": [
    "total_movies = 139"
   ]
  },
  {
   "cell_type": "code",
   "execution_count": null,
   "id": "c10971a2",
   "metadata": {},
   "outputs": [],
   "source": [
    "data = {'Genres':genre_list, 'Number of Movies':genres_5_count}\n",
    "genres_5_df = pd.DataFrame(data)\n",
    "genres_5_df = genres_5_df.sort_values(by=['Number of Movies'], ascending=False)\n",
    "genres_5_df['Percentage'] = round(genres_5_df['Number of Movies']/695, 2)\n",
    "genres_5_df"
   ]
  },
  {
   "cell_type": "code",
   "execution_count": null,
   "id": "35683d96",
   "metadata": {},
   "outputs": [],
   "source": [
    "Percentage = genres_5_df['Percentage'].head(5).values.tolist()\n",
    "Genre = genres_5_df['Genres'].head(5).values.tolist()"
   ]
  },
  {
   "cell_type": "code",
   "execution_count": null,
   "id": "3b175581",
   "metadata": {},
   "outputs": [],
   "source": [
    "Percentage.append(genres_5_df['Percentage'].tail(13).sum())\n",
    "Genre.append('Other')"
   ]
  },
  {
   "cell_type": "code",
   "execution_count": null,
   "id": "fe05ffe6",
   "metadata": {},
   "outputs": [],
   "source": [
    "Percentage"
   ]
  },
  {
   "cell_type": "code",
   "execution_count": null,
   "id": "87a1e75b",
   "metadata": {},
   "outputs": [],
   "source": [
    "plt.figure(figsize=(14,11))\n",
    "sns.set(style=\"ticks\", context=\"talk\")\n",
    "plt.style.use(\"dark_background\")\n",
    "\n",
    "colors = ['#a82200','#2a6671','#f7b23b','#3e6200', '#c05236', '#391513']\n",
    "\n",
    "plt.pie(data=genres_5_df, x=Percentage, labels=Genre, startangle=65, colors=colors, autopct='%.0f%%');"
   ]
  },
  {
   "cell_type": "code",
   "execution_count": null,
   "id": "3e5a1a2e",
   "metadata": {},
   "outputs": [],
   "source": []
  }
 ],
 "metadata": {
  "kernelspec": {
   "display_name": "Python 3 (ipykernel)",
   "language": "python",
   "name": "python3"
  },
  "language_info": {
   "codemirror_mode": {
    "name": "ipython",
    "version": 3
   },
   "file_extension": ".py",
   "mimetype": "text/x-python",
   "name": "python",
   "nbconvert_exporter": "python",
   "pygments_lexer": "ipython3",
   "version": "3.9.12"
  }
 },
 "nbformat": 4,
 "nbformat_minor": 5
}
