{
 "cells": [
  {
   "cell_type": "code",
   "execution_count": null,
   "id": "d1dfe5d0",
   "metadata": {},
   "outputs": [],
   "source": [
    "import pandas as pd\n",
    "import requests\n",
    "import matplotlib.pyplot as plt\n",
    "import matplotlib\n",
    "import seaborn as sns\n",
    "import numpy as np\n",
    "from numpy import mean\n",
    "import json\n",
    "import gzip\n",
    "from subprocess import check_output\n",
    "import math\n",
    "import ast\n",
    "%matplotlib inline"
   ]
  },
  {
   "cell_type": "code",
   "execution_count": null,
   "id": "b7198148",
   "metadata": {},
   "outputs": [],
   "source": [
    "production_df = pd.read_excel('../data/tmdb_production_data.xlsx', index_col=0)\n",
    "movie_df = pd.read_excel('../data/tmdb_movie_data.xlsx', index_col=0)\n",
    "genre_df = pd.read_excel('../data/movie_genres_data.xlsx', index_col=0)\n",
    "cast_df = pd.read_excel('../data/tmdb_cast_data.xlsx', index_col=0)"
   ]
  },
  {
   "cell_type": "code",
   "execution_count": null,
   "id": "9e9c048f",
   "metadata": {},
   "outputs": [],
   "source": [
    "director_df = cast_df.loc[cast_df['cast_known_for_department']=='Acting']\n",
    "director_df"
   ]
  },
  {
   "cell_type": "code",
   "execution_count": null,
   "id": "8f09c36d",
   "metadata": {},
   "outputs": [],
   "source": [
    "director_movie = director_df[['movie_id', 'cast_name']]\n",
    "director_movie = director_movie.groupby(\"cast_name\").agg({\"movie_id\": lambda x: list(x)})\n",
    "director_movie.reset_index(inplace=True)\n",
    "director_movie = director_movie.rename(columns={'cast_name':'Director'})\n",
    "director_movie"
   ]
  },
  {
   "cell_type": "code",
   "execution_count": null,
   "id": "e032f270",
   "metadata": {},
   "outputs": [],
   "source": [
    "movie_profits = production_df[['movie_title', 'movie_profits']]\n",
    "movie_profits"
   ]
  },
  {
   "cell_type": "code",
   "execution_count": null,
   "id": "2ba07dd9",
   "metadata": {},
   "outputs": [],
   "source": [
    "movie_profits = production_df[['movie_title', 'movie_profits']]\n",
    "movie_profits"
   ]
  },
  {
   "cell_type": "code",
   "execution_count": null,
   "id": "374a0f74",
   "metadata": {},
   "outputs": [],
   "source": [
    "movie_ids = movie_df[['movie_id', 'movie_title']]\n",
    "movie_ids"
   ]
  },
  {
   "cell_type": "code",
   "execution_count": null,
   "id": "52179f2e",
   "metadata": {},
   "outputs": [],
   "source": [
    "profit_ids = movie_profits.merge(movie_ids)\n",
    "profit_ids = profit_ids[profit_ids['movie_profits'] != 0]\n",
    "profit_ids = profit_ids.drop(columns={'movie_title'})\n",
    "profit_ids"
   ]
  },
  {
   "cell_type": "code",
   "execution_count": null,
   "id": "fa28f5aa",
   "metadata": {},
   "outputs": [],
   "source": [
    "profit_genre = profit_ids.merge(genre_df)\n",
    "\n",
    "animation_movies = profit_genre[profit_genre['Animation'] == 1]\n",
    "animation_movies"
   ]
  },
  {
   "cell_type": "code",
   "execution_count": null,
   "id": "c44d4461",
   "metadata": {},
   "outputs": [],
   "source": [
    "animation_movies = animation_movies.drop(columns={'Action', 'Adventure', 'Animation', 'Comedy', 'Crime', 'Drama', 'Family', 'Fantasy', 'History', 'Horror', 'Music', 'Mystery', 'Romance', 'Science Fiction', 'TV Movie', 'Thriller', 'War', 'Western'})\n",
    "animation_movies"
   ]
  },
  {
   "cell_type": "code",
   "execution_count": null,
   "id": "bcd4982b",
   "metadata": {},
   "outputs": [],
   "source": [
    "repeated_rows = []\n",
    "for movie_id, profits in zip(animation_movies['movie_id'], animation_movies['movie_profits']):\n",
    "    directors = director_movie[director_movie['movie_id'].apply(lambda x: movie_id in x)]['Director'].values\n",
    "    for director in directors:\n",
    "        repeated_rows.append({'movie_id': movie_id, 'movie_profits': profits, 'Director': director})\n",
    "\n",
    "animation_movies_repeated = pd.DataFrame(repeated_rows)"
   ]
  },
  {
   "cell_type": "code",
   "execution_count": null,
   "id": "0aa11bb8",
   "metadata": {},
   "outputs": [],
   "source": [
    "animation_movies_repeated"
   ]
  },
  {
   "cell_type": "code",
   "execution_count": null,
   "id": "63a85b7d",
   "metadata": {},
   "outputs": [],
   "source": [
    "animation_movies_repeated = animation_movies_repeated.drop(columns={'movie_id'})"
   ]
  },
  {
   "cell_type": "code",
   "execution_count": null,
   "id": "8e7c00b4",
   "metadata": {},
   "outputs": [],
   "source": [
    "movies_directed = animation_movies_repeated.groupby('Director').size()\n",
    "movies_directed = pd.DataFrame(movies_directed)\n",
    "movies_directed.reset_index(inplace=True)\n",
    "movies_directed = movies_directed.rename(columns={0:'Movies Directed'})\n",
    "movies_directed"
   ]
  },
  {
   "cell_type": "code",
   "execution_count": null,
   "id": "4a6e9364",
   "metadata": {},
   "outputs": [],
   "source": [
    "animation_movies_repeated = animation_movies_repeated.groupby('Director').mean()\n",
    "animation_movies_repeated.reset_index(inplace=True)\n",
    "animation_movies_repeated['movie_profits'] = round(animation_movies_repeated['movie_profits']/1000000,0)\n",
    "animation_movies_repeated"
   ]
  },
  {
   "cell_type": "code",
   "execution_count": null,
   "id": "1b26f7eb",
   "metadata": {},
   "outputs": [],
   "source": [
    "director_data = animation_movies_repeated.merge(movies_directed)\n",
    "director_data"
   ]
  },
  {
   "cell_type": "code",
   "execution_count": null,
   "id": "8cd972db",
   "metadata": {},
   "outputs": [],
   "source": [
    "director_data.sort_values(['Movies Directed'], ascending=0)"
   ]
  },
  {
   "cell_type": "code",
   "execution_count": null,
   "id": "0f373d1e",
   "metadata": {},
   "outputs": [],
   "source": [
    "director_data = director_data[director_data['Movies Directed'] > 5]\n",
    "director_data = director_data.sort_values(['movie_profits'], ascending=0)\n",
    "director_data = director_data.head(10)\n",
    "director_data = director_data.sort_values(['movie_profits'], ascending=1)\n",
    "director_data"
   ]
  },
  {
   "cell_type": "code",
   "execution_count": null,
   "id": "6a1f8c86",
   "metadata": {},
   "outputs": [],
   "source": [
    "graph_data = director_data.copy(deep=True)\n",
    "graph_data = graph_data.rename(columns={'Director':'Actor', 'movie_profits':'Average Movie Profit (Millions)', 'Movies Directed':'Movies Starred In'})\n",
    "graph_data"
   ]
  },
  {
   "cell_type": "code",
   "execution_count": null,
   "id": "e9b52bf4",
   "metadata": {},
   "outputs": [],
   "source": [
    "means = list(graph_data['Average Movie Profit (Millions)'])\n",
    "means = [int(i) for i in means]\n",
    "means"
   ]
  },
  {
   "cell_type": "code",
   "execution_count": null,
   "id": "e5dbc53c",
   "metadata": {},
   "outputs": [],
   "source": [
    "actors = graph_data['Actor'].to_list()\n",
    "actors"
   ]
  },
  {
   "cell_type": "code",
   "execution_count": null,
   "id": "7b17ad05",
   "metadata": {},
   "outputs": [],
   "source": [
    "plt.figure(figsize=(25,11))\n",
    "sns.set(style=\"ticks\", context=\"talk\")\n",
    "plt.style.use(\"dark_background\")\n",
    "\n",
    "palette = {'Teresa Ganzel':'#33C1DD', 'John Ratzenberger':'#D13F3F','Colette Whitaker':'#9BF090','Jackie Gonneau':'#D6AAD7',\n",
    "        'Tom Hanks':'#F1E441','Teddy Newton':'#BB77B8','Jim Ward':'#9A8154','Bonnie Hunt':'#84EA08','Lori Alan':'#FDADA5','Bob Peterson':'#A36565'}\n",
    "\n",
    "bar = sns.barplot(x='Actor', y='Average Movie Profit (Millions)', palette=palette, data=graph_data, ci=False);\n",
    "\n",
    "for x in range(len(means)):\n",
    "    bar.text(x,means[x]+9.5, str(round(means[x],0)),\n",
    "            fontdict = dict(color='white', fontsize=18),\n",
    "            horizontalalignment = 'center')"
   ]
  },
  {
   "cell_type": "code",
   "execution_count": null,
   "id": "383aa608",
   "metadata": {},
   "outputs": [],
   "source": [
    "means2 = list(graph_data['Movies Starred In'])\n",
    "means2 = [int(i) for i in means2]\n",
    "means2"
   ]
  },
  {
   "cell_type": "code",
   "execution_count": null,
   "id": "f62777fe",
   "metadata": {},
   "outputs": [],
   "source": [
    "plt.figure(figsize=(25,11))\n",
    "sns.set(style=\"ticks\", context=\"talk\")\n",
    "plt.style.use(\"dark_background\")\n",
    "\n",
    "palette = {'Teresa Ganzel':'#33C1DD', 'John Ratzenberger':'#D13F3F','Colette Whitaker':'#9BF090','Jackie Gonneau':'#D6AAD7',\n",
    "        'Tom Hanks':'#F1E441','Teddy Newton':'#BB77B8','Jim Ward':'#9A8154','Bonnie Hunt':'#84EA08','Lori Alan':'#FDADA5','Bob Peterson':'#A36565'}\n",
    "\n",
    "bar = sns.barplot(x='Actor', y='Movies Starred In', palette=palette, data=graph_data, ci=False);\n",
    "\n",
    "for x in range(len(means2)):\n",
    "    bar.text(x,means2[x]+.25, str(round(means2[x],0)),\n",
    "            fontdict = dict(color='white', fontsize=18),\n",
    "            horizontalalignment = 'center')"
   ]
  },
  {
   "cell_type": "code",
   "execution_count": null,
   "id": "f6726e36",
   "metadata": {},
   "outputs": [],
   "source": []
  }
 ],
 "metadata": {
  "kernelspec": {
   "display_name": "Python 3 (ipykernel)",
   "language": "python",
   "name": "python3"
  },
  "language_info": {
   "codemirror_mode": {
    "name": "ipython",
    "version": 3
   },
   "file_extension": ".py",
   "mimetype": "text/x-python",
   "name": "python",
   "nbconvert_exporter": "python",
   "pygments_lexer": "ipython3",
   "version": "3.9.12"
  }
 },
 "nbformat": 4,
 "nbformat_minor": 5
}
