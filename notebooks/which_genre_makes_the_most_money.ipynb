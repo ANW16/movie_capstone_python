{
 "cells": [
  {
   "cell_type": "code",
   "execution_count": null,
   "id": "24085c6d",
   "metadata": {},
   "outputs": [],
   "source": [
    "import pandas as pd\n",
    "import requests\n",
    "import matplotlib.pyplot as plt\n",
    "import seaborn as sns\n",
    "import numpy as np\n",
    "import json\n",
    "import gzip\n",
    "from subprocess import check_output\n",
    "import math\n",
    "%matplotlib inline"
   ]
  },
  {
   "cell_type": "code",
   "execution_count": null,
   "id": "7533420e",
   "metadata": {},
   "outputs": [],
   "source": [
    "production_df = pd.read_excel('../data/tmdb_production_data.xlsx', index_col=0)\n",
    "movie_df = pd.read_excel('../data/tmdb_movie_data.xlsx', index_col=0)\n",
    "genre_df = pd.read_excel('../data/movie_genres_data.xlsx', index_col=0)"
   ]
  },
  {
   "cell_type": "code",
   "execution_count": null,
   "id": "3f598838",
   "metadata": {},
   "outputs": [],
   "source": [
    "genre_list = ['Action', 'Adventure', 'Animation', 'Comedy', 'Crime', 'Drama', 'Family', 'Fantasy', 'History', 'Horror', 'Music', 'Mystery', 'Romance', 'Science Fiction', 'TV Movie', 'Thriller', 'War', 'Western']"
   ]
  },
  {
   "cell_type": "code",
   "execution_count": null,
   "id": "d8750f45",
   "metadata": {},
   "outputs": [],
   "source": [
    "revenue = production_df[['movie_title', 'movie_revenue', 'movie_budget', 'movie_profits']]\n",
    "revenue = revenue[revenue['movie_revenue'] != 0]\n",
    "revenue = revenue[revenue['movie_budget'] != 0]\n",
    "revenue = revenue.drop(columns={'movie_revenue', 'movie_budget'})\n",
    "revenue"
   ]
  },
  {
   "cell_type": "code",
   "execution_count": null,
   "id": "5b810401",
   "metadata": {},
   "outputs": [],
   "source": [
    "movie_ids = movie_df[['movie_id', 'movie_title']]\n",
    "movie_ids"
   ]
  },
  {
   "cell_type": "code",
   "execution_count": null,
   "id": "e89be7a1",
   "metadata": {},
   "outputs": [],
   "source": [
    "revenue_ids = revenue.merge(movie_ids)\n",
    "revenue_ids = revenue_ids[revenue_ids['movie_profits'] != 0]\n",
    "revenue_ids = revenue_ids.drop(columns={'movie_title'})\n",
    "revenue_ids"
   ]
  },
  {
   "cell_type": "code",
   "execution_count": null,
   "id": "74a3250d",
   "metadata": {},
   "outputs": [],
   "source": [
    "genre_revenue = revenue_ids.merge(genre_df)\n",
    "genre_revenue = genre_revenue.drop(columns={'movie_id', 'genre'})\n",
    "genre_revenue['movie_profits'] = round(genre_revenue['movie_profits']/1000000, 0)\n",
    "genre_revenue"
   ]
  },
  {
   "cell_type": "code",
   "execution_count": null,
   "id": "7c7085f3",
   "metadata": {},
   "outputs": [],
   "source": [
    "genre_revenue_data = []\n",
    "for x in genre_list:\n",
    "    genre_revenue_data.append(round(genre_revenue.loc[genre_revenue[x] == 1, 'movie_profits'].mean(),0))"
   ]
  },
  {
   "cell_type": "code",
   "execution_count": null,
   "id": "1516f11e",
   "metadata": {},
   "outputs": [],
   "source": [
    "genre_revenue = pd.DataFrame(list(zip(genre_list, genre_revenue_data)),\n",
    "               columns =['Genres', 'Average Profits (Millions)'])\n",
    "genre_revenue = genre_revenue.sort_values(by=['Average Profits (Millions)'], ascending=True)\n",
    "genre_revenue = genre_revenue[genre_revenue['Average Profits (Millions)'] > 100]"
   ]
  },
  {
   "cell_type": "code",
   "execution_count": null,
   "id": "6cf1b754",
   "metadata": {},
   "outputs": [],
   "source": [
    "means = list(genre_revenue['Average Profits (Millions)'])\n",
    "means = [int(i) for i in means]\n",
    "means"
   ]
  },
  {
   "cell_type": "code",
   "execution_count": null,
   "id": "e2d63381",
   "metadata": {},
   "outputs": [],
   "source": [
    "plt.figure(figsize=(14,11))\n",
    "sns.set(style=\"ticks\", context=\"talk\")\n",
    "plt.style.use(\"dark_background\")\n",
    "\n",
    "palette = {'Comedy': \"#f7b23b\", 'Animation':\"#2a6671\", 'Family':'#c05236', \n",
    "           'Adventure':'#a82200', 'Fantasy':'#3e6200', 'Action':'#391513', 'Science Fiction':'#391513'}\n",
    "\n",
    "bar = sns.barplot(x='Genres', y='Average Profits (Millions)', data=genre_revenue, palette=palette, ci=False);\n",
    "\n",
    "for x in range(len(means)):\n",
    "    bar.text(x,means[x]+2.5, str(round(means[x],0)),\n",
    "            fontdict = dict(color='white', fontsize=18),\n",
    "            horizontalalignment = 'center')"
   ]
  },
  {
   "cell_type": "code",
   "execution_count": null,
   "id": "1faf2be3",
   "metadata": {},
   "outputs": [],
   "source": []
  }
 ],
 "metadata": {
  "kernelspec": {
   "display_name": "Python 3 (ipykernel)",
   "language": "python",
   "name": "python3"
  },
  "language_info": {
   "codemirror_mode": {
    "name": "ipython",
    "version": 3
   },
   "file_extension": ".py",
   "mimetype": "text/x-python",
   "name": "python",
   "nbconvert_exporter": "python",
   "pygments_lexer": "ipython3",
   "version": "3.9.12"
  }
 },
 "nbformat": 4,
 "nbformat_minor": 5
}
