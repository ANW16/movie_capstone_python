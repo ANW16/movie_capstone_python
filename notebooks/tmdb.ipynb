{
 "cells": [
  {
   "cell_type": "code",
   "execution_count": 1,
   "id": "ed19faca",
   "metadata": {},
   "outputs": [],
   "source": [
    "import pandas as pd\n",
    "import requests\n",
    "import matplotlib.pyplot as plt\n",
    "import seaborn as sns\n",
    "import numpy as np\n",
    "import json\n",
    "import gzip\n",
    "from subprocess import check_output\n",
    "%matplotlib inline"
   ]
  },
  {
   "cell_type": "code",
   "execution_count": 2,
   "id": "e1baacdc",
   "metadata": {},
   "outputs": [],
   "source": [
    "with open('../keys/tmdb_key.json') as fi:\n",
    "    credentials = json.load(fi)"
   ]
  },
  {
   "cell_type": "code",
   "execution_count": 3,
   "id": "6c01a65b",
   "metadata": {},
   "outputs": [],
   "source": [
    "api_key = credentials['api_key']"
   ]
  },
  {
   "cell_type": "code",
   "execution_count": 4,
   "id": "9659c462",
   "metadata": {},
   "outputs": [],
   "source": [
    "def get_top_rated(api_key, page):\n",
    "    url=f'https://api.themoviedb.org/3/movie/top_rated?api_key={api_key}&language=en-US&page={page}'\n",
    "    \n",
    "    res = requests.get(url)\n",
    "    \n",
    "    top_rated_object = res.json()\n",
    "    \n",
    "    return top_rated_object"
   ]
  },
  {
   "cell_type": "code",
   "execution_count": null,
   "id": "d6bd3562",
   "metadata": {},
   "outputs": [],
   "source": [
    "i=1\n",
    "genre_ids=[]\n",
    "movie_ids=[]\n",
    "original_lanuage=[]\n",
    "movie_title=[]\n",
    "movie_popularity=[]\n",
    "movie_release_date=[]\n",
    "movie_avg_vote=[]\n",
    "movie_vote_count=[]\n",
    "while i < 201:\n",
    "    x=0\n",
    "    while x < 20:\n",
    "        genre_ids.append(get_top_rated(api_key, i)['results'][x]['genre_ids'])\n",
    "        movie_ids.append(get_top_rated(api_key, i)['results'][x]['id'])\n",
    "        original_lanuage.append(get_top_rated(api_key, i)['results'][x]['original_language'])\n",
    "        movie_title.append(get_top_rated(api_key, i)['results'][x]['title'])\n",
    "        movie_popularity.append(get_top_rated(api_key, i)['results'][x]['popularity'])\n",
    "        movie_release_date.append(get_top_rated(api_key, i)['results'][x]['release_date'])\n",
    "        movie_avg_vote.append(get_top_rated(api_key, i)['results'][x]['vote_average'])\n",
    "        movie_vote_count.append(get_top_rated(api_key, i)['results'][x]['vote_count'])\n",
    "        x=x+1\n",
    "    i=i+1"
   ]
  },
  {
   "cell_type": "code",
   "execution_count": null,
   "id": "e7f58858",
   "metadata": {},
   "outputs": [],
   "source": [
    "len(movie_ids)"
   ]
  },
  {
   "cell_type": "code",
   "execution_count": null,
   "id": "bb55727e",
   "metadata": {},
   "outputs": [],
   "source": [
    "tmdb_movie_data = {'movie_title':movie_title, 'movie_id':movie_ids, 'original_lanuage':original_lanuage, 'movie_popularity':movie_popularity, 'movie_release_date':movie_release_date, 'movie_avg_vote':movie_avg_vote, 'movie_vote_count':movie_vote_count}\n",
    "tmdb_movie_df = pd.DataFrame(tmdb_movie_data)\n",
    "display(tmdb_movie_df)"
   ]
  },
  {
   "cell_type": "code",
   "execution_count": null,
   "id": "324a4ee8",
   "metadata": {},
   "outputs": [],
   "source": [
    "def get_details(api_key, movie_id):\n",
    "    url = f'https://api.themoviedb.org/3/movie/{movie_id}?api_key={api_key}&language=en-US'\n",
    "    \n",
    "    res = requests.get(url)\n",
    "    \n",
    "    details_object = res.json()\n",
    "    \n",
    "    return details_object"
   ]
  },
  {
   "cell_type": "code",
   "execution_count": null,
   "id": "e247511a",
   "metadata": {},
   "outputs": [],
   "source": [
    "tmdb_details_info = []\n",
    "for x in movie_ids:\n",
    "    tmdb_details_info.append(get_details(api_key, x))"
   ]
  },
  {
   "cell_type": "code",
   "execution_count": null,
   "id": "71357417",
   "metadata": {},
   "outputs": [],
   "source": [
    "i = 0\n",
    "budget = []\n",
    "origin_country = []\n",
    "runtime = []\n",
    "revenue = []\n",
    "title = []\n",
    "while i < len(tmdb_details_info):\n",
    "    title.append(tmdb_details_info[i]['title'])\n",
    "    budget.append(tmdb_details_info[i]['budget'])\n",
    "    revenue.append(tmdb_details_info[i]['revenue'])\n",
    "    runtime.append(tmdb_details_info[i]['runtime'])\n",
    "    try:\n",
    "        origin_country.append(tmdb_details_info[i]['production_countries'][0]['name'])\n",
    "    except IndexError:\n",
    "        origin_country.append('null')\n",
    "    i = i+1"
   ]
  },
  {
   "cell_type": "code",
   "execution_count": null,
   "id": "b5879171",
   "metadata": {},
   "outputs": [],
   "source": [
    "tmdb_production_data = {'movie_title':title, 'movie_budget':budget, 'movie_revenue':revenue, 'origin_country':origin_country, 'movie_runtime':runtime}\n",
    "tmdb_production_df = pd.DataFrame(tmdb_production_data)\n",
    "display(tmdb_production_df)"
   ]
  },
  {
   "cell_type": "code",
   "execution_count": null,
   "id": "87c5817b",
   "metadata": {},
   "outputs": [],
   "source": [
    "def get_cast(api_key, movie_id):\n",
    "    url = f'https://api.themoviedb.org/3/movie/{movie_id}/credits?api_key={api_key}&language=en-US'\n",
    "    \n",
    "    res = requests.get(url)\n",
    "    \n",
    "    cast_object = res.json()\n",
    "    \n",
    "    return cast_object "
   ]
  },
  {
   "cell_type": "code",
   "execution_count": null,
   "id": "1953fefd",
   "metadata": {},
   "outputs": [],
   "source": [
    "tmdb_cast_info = []\n",
    "for x in movie_ids:\n",
    "    tmdb_cast_info.append(get_cast(api_key, x))"
   ]
  },
  {
   "cell_type": "code",
   "execution_count": null,
   "id": "4742cc57",
   "metadata": {},
   "outputs": [],
   "source": [
    "i = 0\n",
    "cast_movie_id = []\n",
    "cast_sex = []\n",
    "cast_known_for_department = []\n",
    "cast_name = []\n",
    "cast_popularity = []\n",
    "cast_id = []\n",
    "crew_movie_id = []\n",
    "crew_sex = []\n",
    "crew_id = []\n",
    "crew_known_for_department = []\n",
    "crew_name = []\n",
    "crew_popularity = []\n",
    "crew_department = []\n",
    "crew_job = []\n",
    "while i < len(tmdb_cast_info):\n",
    "    x = 0\n",
    "    y = 0\n",
    "    while x < len(tmdb_cast_info[i]['cast']):\n",
    "        cast_sex.append(tmdb_cast_info[i]['cast'][x]['gender'])\n",
    "        cast_known_for_department.append(tmdb_cast_info[i]['cast'][x]['known_for_department'])\n",
    "        cast_name.append(tmdb_cast_info[i]['cast'][x]['name'])\n",
    "        cast_popularity.append(tmdb_cast_info[i]['cast'][x]['popularity'])\n",
    "        cast_id.append(tmdb_cast_info[i]['cast'][x]['id'])\n",
    "        x=x+1\n",
    "    while y < len(tmdb_cast_info[i]['crew']):\n",
    "        crew_sex.append(tmdb_cast_info[i]['crew'][y]['gender'])\n",
    "        crew_id.append(tmdb_cast_info[i]['crew'][y]['id'])\n",
    "        crew_known_for_department.append(tmdb_cast_info[i]['crew'][y]['known_for_department'])\n",
    "        crew_name.append(tmdb_cast_info[i]['crew'][y]['name'])\n",
    "        crew_popularity.append(tmdb_cast_info[i]['crew'][y]['popularity'])\n",
    "        crew_department.append(tmdb_cast_info[i]['crew'][y]['department'])\n",
    "        crew_job.append(tmdb_cast_info[i]['crew'][y]['job'])\n",
    "        y=y+1\n",
    "    for cast in range(x):\n",
    "        cast_movie_id.append(tmdb_cast_info[i]['id'])\n",
    "    for crew in range(y):\n",
    "        crew_movie_id.append(tmdb_cast_info[i]['id'])\n",
    "    i = i+1"
   ]
  },
  {
   "cell_type": "code",
   "execution_count": null,
   "id": "7c1c6ee2",
   "metadata": {},
   "outputs": [],
   "source": [
    "len(cast_movie_id)"
   ]
  },
  {
   "cell_type": "code",
   "execution_count": null,
   "id": "b0736f11",
   "metadata": {},
   "outputs": [],
   "source": [
    "len(cast_name)"
   ]
  },
  {
   "cell_type": "code",
   "execution_count": null,
   "id": "b0164947",
   "metadata": {},
   "outputs": [],
   "source": [
    "len(crew_movie_id)"
   ]
  },
  {
   "cell_type": "code",
   "execution_count": null,
   "id": "51889692",
   "metadata": {},
   "outputs": [],
   "source": [
    "len(crew_name)"
   ]
  },
  {
   "cell_type": "code",
   "execution_count": null,
   "id": "b167d5e4",
   "metadata": {},
   "outputs": [],
   "source": [
    "tmdb_cast_data = {'movie_id':cast_movie_id, 'cast_id':cast_id, 'cast_name':cast_name, 'cast_sex':cast_sex, 'cast_known_for_department':cast_known_for_department, 'cast_popularity':cast_popularity}\n",
    "tmdb_cast_df = pd.DataFrame(tmdb_cast_data)\n",
    "display(tmdb_cast_df)"
   ]
  },
  {
   "cell_type": "code",
   "execution_count": null,
   "id": "09f380cb",
   "metadata": {},
   "outputs": [],
   "source": [
    "tmdb_crew_data = {'movie_id':crew_movie_id, 'crew_id':crew_id, 'crew_name':crew_name, 'crew_sex':crew_sex, 'crew_known_for_department':crew_known_for_department, 'crew_popularity':crew_popularity, 'crew_department':crew_department, 'crew_job':crew_job}\n",
    "tmdb_crew_df = pd.DataFrame(tmdb_crew_data)\n",
    "display(tmdb_crew_df)"
   ]
  },
  {
   "cell_type": "code",
   "execution_count": null,
   "id": "a26ba60d",
   "metadata": {},
   "outputs": [],
   "source": [
    "test_data = {'movie_id':movie_id, 'genre':genre_ids}"
   ]
  },
  {
   "cell_type": "code",
   "execution_count": null,
   "id": "08f01abd",
   "metadata": {},
   "outputs": [],
   "source": [
    "len(movie_id)"
   ]
  },
  {
   "cell_type": "code",
   "execution_count": null,
   "id": "ca2d112d",
   "metadata": {},
   "outputs": [],
   "source": [
    "len(genre_ids)"
   ]
  },
  {
   "cell_type": "code",
   "execution_count": null,
   "id": "f9887708",
   "metadata": {},
   "outputs": [],
   "source": [
    "test_df = pd.DataFrame(test_data)\n",
    "display(test_df)"
   ]
  },
  {
   "cell_type": "code",
   "execution_count": null,
   "id": "0862036b",
   "metadata": {},
   "outputs": [],
   "source": []
  }
 ],
 "metadata": {
  "kernelspec": {
   "display_name": "Python 3 (ipykernel)",
   "language": "python",
   "name": "python3"
  },
  "language_info": {
   "codemirror_mode": {
    "name": "ipython",
    "version": 3
   },
   "file_extension": ".py",
   "mimetype": "text/x-python",
   "name": "python",
   "nbconvert_exporter": "python",
   "pygments_lexer": "ipython3",
   "version": "3.9.12"
  }
 },
 "nbformat": 4,
 "nbformat_minor": 5
}
