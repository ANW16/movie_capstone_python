{
 "cells": [
  {
   "cell_type": "code",
   "execution_count": null,
   "id": "3958ac2b",
   "metadata": {},
   "outputs": [],
   "source": [
    "import pandas as pd\n",
    "import requests\n",
    "import matplotlib.pyplot as plt\n",
    "import seaborn as sns\n",
    "import numpy as np\n",
    "import json\n",
    "import gzip\n",
    "from subprocess import check_output\n",
    "%matplotlib inline"
   ]
  },
  {
   "cell_type": "code",
   "execution_count": null,
   "id": "28ac4e43",
   "metadata": {},
   "outputs": [],
   "source": [
    "with open('../keys/tmdb_key.json') as fi:\n",
    "    credentials = json.load(fi)"
   ]
  },
  {
   "cell_type": "code",
   "execution_count": null,
   "id": "b775e5bf",
   "metadata": {},
   "outputs": [],
   "source": [
    "api_key = credentials['api_key']"
   ]
  },
  {
   "cell_type": "code",
   "execution_count": null,
   "id": "cd7c4a8e",
   "metadata": {},
   "outputs": [],
   "source": [
    "def get_top_rated(api_key, page):\n",
    "    url=f'https://api.themoviedb.org/3/movie/top_rated?api_key={api_key}&language=en-US&page={page}'\n",
    "    \n",
    "    res = requests.get(url)\n",
    "    \n",
    "    top_rated_object = res.json()\n",
    "    \n",
    "    return top_rated_object"
   ]
  },
  {
   "cell_type": "code",
   "execution_count": null,
   "id": "3ec8f7dd",
   "metadata": {},
   "outputs": [],
   "source": [
    "i=1\n",
    "genre_ids=[]\n",
    "movie_ids=[]\n",
    "original_lanuage=[]\n",
    "movie_title=[]\n",
    "movie_popularity=[]\n",
    "movie_release_date=[]\n",
    "movie_avg_vote=[]\n",
    "movie_vote_count=[]\n",
    "while i < 201:\n",
    "    x=0\n",
    "    while x < 20:\n",
    "        genre_ids.append(get_top_rated(api_key, i)['results'][x]['genre_ids'])\n",
    "        movie_ids.append(get_top_rated(api_key, i)['results'][x]['id'])\n",
    "        original_lanuage.append(get_top_rated(api_key, i)['results'][x]['original_language'])\n",
    "        movie_title.append(get_top_rated(api_key, i)['results'][x]['title'])\n",
    "        movie_popularity.append(get_top_rated(api_key, i)['results'][x]['popularity'])\n",
    "        movie_release_date.append(get_top_rated(api_key, i)['results'][x]['release_date'])\n",
    "        movie_avg_vote.append(get_top_rated(api_key, i)['results'][x]['vote_average'])\n",
    "        movie_vote_count.append(get_top_rated(api_key, i)['results'][x]['vote_count'])\n",
    "        x=x+1\n",
    "    i=i+1"
   ]
  },
  {
   "cell_type": "code",
   "execution_count": null,
   "id": "3ae99c6d",
   "metadata": {},
   "outputs": [],
   "source": [
    "len(movie_ids)"
   ]
  },
  {
   "cell_type": "code",
   "execution_count": null,
   "id": "443bd323",
   "metadata": {},
   "outputs": [],
   "source": [
    "tmdb_movie_data = {'title':movie_title, 'movie_id':movie_ids, 'original_lanuage':original_lanuage, 'movie_popularity':movie_popularity, 'movie_release_date':movie_release_date, 'movie_avg_vote':movie_avg_vote, 'movie_vote_count':movie_vote_count}\n",
    "tmdb_movie_df = pd.DataFrame(tmdb_movie_data)\n",
    "display(tmdb_movie_df)"
   ]
  },
  {
   "cell_type": "code",
   "execution_count": null,
   "id": "8b8d020a",
   "metadata": {},
   "outputs": [],
   "source": [
    "def get_details(api_key, movie_id):\n",
    "    url = f'https://api.themoviedb.org/3/movie/{movie_id}?api_key={api_key}&language=en-US'\n",
    "    \n",
    "    res = requests.get(url)\n",
    "    \n",
    "    details_object = res.json()\n",
    "    \n",
    "    return details_object"
   ]
  },
  {
   "cell_type": "code",
   "execution_count": null,
   "id": "06d058a3",
   "metadata": {},
   "outputs": [],
   "source": [
    "tmdb_details_info = []\n",
    "for x in movie_ids:\n",
    "    tmdb_details_info.append(get_details(api_key, x))"
   ]
  },
  {
   "cell_type": "code",
   "execution_count": null,
   "id": "87440f66",
   "metadata": {},
   "outputs": [],
   "source": [
    "i = 0\n",
    "budget = []\n",
    "origin_country = []\n",
    "runtime = []\n",
    "revenue = []\n",
    "title = []\n",
    "while i < len(tmdb_details_info):\n",
    "    title.append(tmdb_details_info[i]['title'])\n",
    "    budget.append(tmdb_details_info[i]['budget'])\n",
    "    revenue.append(tmdb_details_info[i]['revenue'])\n",
    "    runtime.append(tmdb_details_info[i]['runtime'])\n",
    "    try:\n",
    "        origin_country.append(tmdb_details_info[i]['production_countries'][0]['name'])\n",
    "    except IndexError:\n",
    "        origin_country.append('null')\n",
    "    i = i+1"
   ]
  },
  {
   "cell_type": "code",
   "execution_count": null,
   "id": "be2bea74",
   "metadata": {},
   "outputs": [],
   "source": [
    "tmdb_production_data = {'movie_title':title, 'movie_budget':budget, 'movie_revenue':revenue, 'origin_country':origin_country, 'movie_runtime':runtime}\n",
    "tmdb_production_df = pd.DataFrame(tmdb_production_data)\n",
    "display(tmdb_production_df)"
   ]
  },
  {
   "cell_type": "code",
   "execution_count": null,
   "id": "32ede9b6",
   "metadata": {},
   "outputs": [],
   "source": [
    "def get_cast(api_key, movie_id):\n",
    "    url = f'https://api.themoviedb.org/3/movie/{movie_id}/credits?api_key={api_key}&language=en-US'\n",
    "    \n",
    "    res = requests.get(url)\n",
    "    \n",
    "    cast_object = res.json()\n",
    "    \n",
    "    return cast_object "
   ]
  },
  {
   "cell_type": "code",
   "execution_count": null,
   "id": "da929db5",
   "metadata": {},
   "outputs": [],
   "source": [
    "tmdb_cast_info = []\n",
    "for x in movie_ids:\n",
    "    tmdb_cast_info.append(get_cast(api_key, x))"
   ]
  },
  {
   "cell_type": "code",
   "execution_count": null,
   "id": "5300273b",
   "metadata": {},
   "outputs": [],
   "source": [
    "tmdb_cast_info[0]['crew'][0]['gender']\n",
    "tmdb_cast_info[0]['crew'][0]['id']\n",
    "tmdb_cast_info[0]['crew'][0]['known_for_department']\n",
    "tmdb_cast_info[0]['crew'][0]['name']\n",
    "tmdb_cast_info[0]['crew'][0]['popularity']\n",
    "tmdb_cast_info[0]['crew'][0]['department']\n",
    "tmdb_cast_info[0]['crew'][0]['job']"
   ]
  },
  {
   "cell_type": "code",
   "execution_count": null,
   "id": "526cb637",
   "metadata": {},
   "outputs": [],
   "source": [
    "i = 0\n",
    "movie_id = []\n",
    "cast_sex = []\n",
    "cast_known_for_department = []\n",
    "cast_name = []\n",
    "cast_popularity = []\n",
    "cast_id = []\n",
    "crew_sex = []\n",
    "crew_id = []\n",
    "crew_known_for_department = []\n",
    "crew_name = []\n",
    "crew_popularity = []\n",
    "crew_department = []\n",
    "crew_job = []\n",
    "while i < len(tmdb_cast_info):\n",
    "    movie_id.append(tmdb_cast_info[i]['id'])\n",
    "    x = 0\n",
    "    y = 0\n",
    "    while x < len(tmdb_cast_info[i]['cast']):\n",
    "        cast_sex.append(tmdb_cast_info[i]['cast'][x]['gender'])\n",
    "        cast_known_for_department.append(tmdb_cast_info[i]['cast'][x]['known_for_department'])\n",
    "        cast_name.append(tmdb_cast_info[i]['cast'][x]['name'])\n",
    "        cast_popularity.append(tmdb_cast_info[i]['cast'][x]['popularity'])\n",
    "        cast_id.append(tmdb_cast_info[i]['cast'][x]['id'])\n",
    "        x=x+1\n",
    "    while y < len(tmdb_cast_info[i]['crew']):\n",
    "        crew_sex.append(tmdb_cast_info[i]['crew'][y]['gender'])\n",
    "        crew_id.append(tmdb_cast_info[i]['crew'][y]['id'])\n",
    "        crew_known_for_department.append(tmdb_cast_info[i]['crew'][y]['known_for_department'])\n",
    "        crew_name.append(tmdb_cast_info[i]['crew'][y]['name'])\n",
    "        crew_popularity.append(tmdb_cast_info[i]['crew'][y]['popularity'])\n",
    "        crew_department.append(tmdb_cast_info[i]['crew'][y]['department'])\n",
    "        crew_job.append(tmdb_cast_info[i]['crew'][y]['job'])\n",
    "        y=y+1\n",
    "    i = i+1"
   ]
  },
  {
   "cell_type": "code",
   "execution_count": null,
   "id": "dbddf6ae",
   "metadata": {},
   "outputs": [],
   "source": [
    "len(movie_id)"
   ]
  },
  {
   "cell_type": "code",
   "execution_count": null,
   "id": "3a96e544",
   "metadata": {},
   "outputs": [],
   "source": []
  },
  {
   "cell_type": "code",
   "execution_count": null,
   "id": "3bc6a95e",
   "metadata": {},
   "outputs": [],
   "source": []
  }
 ],
 "metadata": {
  "kernelspec": {
   "display_name": "Python 3 (ipykernel)",
   "language": "python",
   "name": "python3"
  },
  "language_info": {
   "codemirror_mode": {
    "name": "ipython",
    "version": 3
   },
   "file_extension": ".py",
   "mimetype": "text/x-python",
   "name": "python",
   "nbconvert_exporter": "python",
   "pygments_lexer": "ipython3",
   "version": "3.9.12"
  }
 },
 "nbformat": 4,
 "nbformat_minor": 5
}
