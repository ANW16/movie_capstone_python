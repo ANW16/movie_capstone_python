{
 "cells": [
  {
   "cell_type": "code",
   "execution_count": null,
   "id": "d84a7116",
   "metadata": {},
   "outputs": [],
   "source": [
    "import pandas as pd\n",
    "import requests\n",
    "import matplotlib.pyplot as plt\n",
    "import seaborn as sns\n",
    "import numpy as np\n",
    "import json\n",
    "import gzip\n",
    "from subprocess import check_output\n",
    "%matplotlib inline"
   ]
  },
  {
   "cell_type": "code",
   "execution_count": null,
   "id": "e27d8742",
   "metadata": {},
   "outputs": [],
   "source": [
    "with open('../keys/tmdb_key.json') as fi:\n",
    "    credentials = json.load(fi)"
   ]
  },
  {
   "cell_type": "code",
   "execution_count": null,
   "id": "0f0a9fea",
   "metadata": {},
   "outputs": [],
   "source": [
    "api_key = credentials['api_key']"
   ]
  },
  {
   "cell_type": "code",
   "execution_count": null,
   "id": "1e2967dd",
   "metadata": {},
   "outputs": [],
   "source": [
    "def get_top_rated(api_key, page):\n",
    "    url=f'https://api.themoviedb.org/3/movie/top_rated?api_key={api_key}&language=en-US&page={page}'\n",
    "    \n",
    "    res = requests.get(url)\n",
    "    \n",
    "    top_rated_object = res.json()\n",
    "    \n",
    "    return top_rated_object"
   ]
  },
  {
   "cell_type": "code",
   "execution_count": null,
   "id": "57c5436b",
   "metadata": {},
   "outputs": [],
   "source": [
    "i=1\n",
    "genre_ids=[]\n",
    "movie_ids=[]\n",
    "original_lanuage=[]\n",
    "movie_title=[]\n",
    "movie_popularity=[]\n",
    "movie_release_date=[]\n",
    "movie_avg_vote=[]\n",
    "movie_vote_count=[]\n",
    "while i < 201:\n",
    "    x=0\n",
    "    while x < 20:\n",
    "        genre_ids.append(get_top_rated(api_key, i)['results'][x]['genre_ids'])\n",
    "        movie_ids.append(get_top_rated(api_key, i)['results'][x]['id'])\n",
    "        original_lanuage.append(get_top_rated(api_key, i)['results'][x]['original_language'])\n",
    "        movie_title.append(get_top_rated(api_key, i)['results'][x]['title'])\n",
    "        movie_popularity.append(get_top_rated(api_key, i)['results'][x]['popularity'])\n",
    "        movie_release_date.append(get_top_rated(api_key, i)['results'][x]['release_date'])\n",
    "        movie_avg_vote.append(get_top_rated(api_key, i)['results'][x]['vote_average'])\n",
    "        movie_vote_count.append(get_top_rated(api_key, i)['results'][x]['vote_count'])\n",
    "        x=x+1\n",
    "    i=i+1"
   ]
  },
  {
   "cell_type": "code",
   "execution_count": null,
   "id": "d1504c4b",
   "metadata": {},
   "outputs": [],
   "source": [
    "len(movie_ids)"
   ]
  },
  {
   "cell_type": "code",
   "execution_count": null,
   "id": "abf88a59",
   "metadata": {},
   "outputs": [],
   "source": [
    "tmdb_movie_data = {'movie_title':movie_title, 'movie_id':movie_ids, 'original_lanuage':original_lanuage, 'movie_popularity':movie_popularity, 'movie_release_date':movie_release_date, 'movie_avg_vote':movie_avg_vote, 'movie_vote_count':movie_vote_count}\n",
    "tmdb_movie_df = pd.DataFrame(tmdb_movie_data)\n",
    "display(tmdb_movie_df)"
   ]
  },
  {
   "cell_type": "code",
   "execution_count": null,
   "id": "2d27a348",
   "metadata": {},
   "outputs": [],
   "source": [
    "def get_details(api_key, movie_id):\n",
    "    url = f'https://api.themoviedb.org/3/movie/{movie_id}?api_key={api_key}&language=en-US'\n",
    "    \n",
    "    res = requests.get(url)\n",
    "    \n",
    "    details_object = res.json()\n",
    "    \n",
    "    return details_object"
   ]
  },
  {
   "cell_type": "code",
   "execution_count": null,
   "id": "0516a36d",
   "metadata": {},
   "outputs": [],
   "source": [
    "tmdb_details_info = []\n",
    "for x in movie_ids:\n",
    "    tmdb_details_info.append(get_details(api_key, x))"
   ]
  },
  {
   "cell_type": "code",
   "execution_count": null,
   "id": "dd930616",
   "metadata": {},
   "outputs": [],
   "source": [
    "i = 0\n",
    "budget = []\n",
    "origin_country = []\n",
    "runtime = []\n",
    "revenue = []\n",
    "title = []\n",
    "while i < len(tmdb_details_info):\n",
    "    title.append(tmdb_details_info[i]['title'])\n",
    "    budget.append(tmdb_details_info[i]['budget'])\n",
    "    revenue.append(tmdb_details_info[i]['revenue'])\n",
    "    runtime.append(tmdb_details_info[i]['runtime'])\n",
    "    try:\n",
    "        origin_country.append(tmdb_details_info[i]['production_countries'][0]['name'])\n",
    "    except IndexError:\n",
    "        origin_country.append('null')\n",
    "    i = i+1"
   ]
  },
  {
   "cell_type": "code",
   "execution_count": null,
   "id": "14b0db77",
   "metadata": {},
   "outputs": [],
   "source": [
    "tmdb_production_data = {'movie_title':title, 'movie_budget':budget, 'movie_revenue':revenue, 'origin_country':origin_country, 'movie_runtime':runtime}\n",
    "tmdb_production_df = pd.DataFrame(tmdb_production_data)\n",
    "display(tmdb_production_df)"
   ]
  },
  {
   "cell_type": "code",
   "execution_count": null,
   "id": "0444d986",
   "metadata": {},
   "outputs": [],
   "source": [
    "def get_cast(api_key, movie_id):\n",
    "    url = f'https://api.themoviedb.org/3/movie/{movie_id}/credits?api_key={api_key}&language=en-US'\n",
    "    \n",
    "    res = requests.get(url)\n",
    "    \n",
    "    cast_object = res.json()\n",
    "    \n",
    "    return cast_object "
   ]
  },
  {
   "cell_type": "code",
   "execution_count": null,
   "id": "69d46059",
   "metadata": {},
   "outputs": [],
   "source": [
    "tmdb_cast_info = []\n",
    "for x in movie_ids:\n",
    "    tmdb_cast_info.append(get_cast(api_key, x))"
   ]
  },
  {
   "cell_type": "code",
   "execution_count": null,
   "id": "2e8441fc",
   "metadata": {},
   "outputs": [],
   "source": [
    "i = 0\n",
    "cast_movie_id = []\n",
    "cast_sex = []\n",
    "cast_known_for_department = []\n",
    "cast_name = []\n",
    "cast_popularity = []\n",
    "cast_id = []\n",
    "crew_movie_id = []\n",
    "crew_sex = []\n",
    "crew_id = []\n",
    "crew_known_for_department = []\n",
    "crew_name = []\n",
    "crew_popularity = []\n",
    "crew_department = []\n",
    "crew_job = []\n",
    "while i < len(tmdb_cast_info):\n",
    "    x = 0\n",
    "    y = 0\n",
    "    while x < len(tmdb_cast_info[i]['cast']):\n",
    "        cast_sex.append(tmdb_cast_info[i]['cast'][x]['gender'])\n",
    "        cast_known_for_department.append(tmdb_cast_info[i]['cast'][x]['known_for_department'])\n",
    "        cast_name.append(tmdb_cast_info[i]['cast'][x]['name'])\n",
    "        cast_popularity.append(tmdb_cast_info[i]['cast'][x]['popularity'])\n",
    "        cast_id.append(tmdb_cast_info[i]['cast'][x]['id'])\n",
    "        x=x+1\n",
    "    while y < len(tmdb_cast_info[i]['crew']):\n",
    "        crew_sex.append(tmdb_cast_info[i]['crew'][y]['gender'])\n",
    "        crew_id.append(tmdb_cast_info[i]['crew'][y]['id'])\n",
    "        crew_known_for_department.append(tmdb_cast_info[i]['crew'][y]['known_for_department'])\n",
    "        crew_name.append(tmdb_cast_info[i]['crew'][y]['name'])\n",
    "        crew_popularity.append(tmdb_cast_info[i]['crew'][y]['popularity'])\n",
    "        crew_department.append(tmdb_cast_info[i]['crew'][y]['department'])\n",
    "        crew_job.append(tmdb_cast_info[i]['crew'][y]['job'])\n",
    "        y=y+1\n",
    "    for cast in range(x):\n",
    "        cast_movie_id.append(tmdb_cast_info[i]['id'])\n",
    "    for crew in range(y):\n",
    "        crew_movie_id.append(tmdb_cast_info[i]['id'])\n",
    "    i = i+1"
   ]
  },
  {
   "cell_type": "code",
   "execution_count": null,
   "id": "cd0b98e8",
   "metadata": {},
   "outputs": [],
   "source": [
    "len(cast_movie_id)"
   ]
  },
  {
   "cell_type": "code",
   "execution_count": null,
   "id": "8511cf74",
   "metadata": {},
   "outputs": [],
   "source": [
    "len(cast_name)"
   ]
  },
  {
   "cell_type": "code",
   "execution_count": null,
   "id": "8d726b6b",
   "metadata": {},
   "outputs": [],
   "source": [
    "len(crew_movie_id)"
   ]
  },
  {
   "cell_type": "code",
   "execution_count": null,
   "id": "a559ac82",
   "metadata": {},
   "outputs": [],
   "source": [
    "len(crew_name)"
   ]
  },
  {
   "cell_type": "code",
   "execution_count": null,
   "id": "66c67873",
   "metadata": {},
   "outputs": [],
   "source": [
    "tmdb_cast_data = {'movie_id':cast_movie_id, 'cast_id':cast_id, 'cast_name':cast_name, 'cast_sex':cast_sex, 'cast_known_for_department':cast_known_for_department, 'cast_popularity':cast_popularity}\n",
    "tmdb_cast_df = pd.DataFrame(tmdb_cast_data)\n",
    "display(tmdb_cast_df)"
   ]
  },
  {
   "cell_type": "code",
   "execution_count": null,
   "id": "c8c3a978",
   "metadata": {},
   "outputs": [],
   "source": [
    "tmdb_crew_data = {'movie_id':crew_movie_id, 'crew_id':crew_id, 'crew_name':crew_name, 'crew_sex':crew_sex, 'crew_known_for_department':crew_known_for_department, 'crew_popularity':crew_popularity, 'crew_department':crew_department, 'crew_job':crew_job}\n",
    "tmdb_crew_df = pd.DataFrame(tmdb_crew_data)\n",
    "display(tmdb_crew_df)"
   ]
  },
  {
   "cell_type": "code",
   "execution_count": null,
   "id": "817b3cd1",
   "metadata": {},
   "outputs": [],
   "source": [
    "movie_genres_data = {'movie_id':movie_ids, 'genre':genre_ids}"
   ]
  },
  {
   "cell_type": "code",
   "execution_count": null,
   "id": "cef62fc8",
   "metadata": {},
   "outputs": [],
   "source": [
    "len(movie_ids)"
   ]
  },
  {
   "cell_type": "code",
   "execution_count": null,
   "id": "3c5d0ad0",
   "metadata": {},
   "outputs": [],
   "source": [
    "len(genre_ids)"
   ]
  },
  {
   "cell_type": "code",
   "execution_count": null,
   "id": "d2f353a8",
   "metadata": {},
   "outputs": [],
   "source": [
    "movie_genres_df = pd.DataFrame(movie_genres_data)\n",
    "display(movie_genres_df)"
   ]
  },
  {
   "cell_type": "code",
   "execution_count": null,
   "id": "d190b665",
   "metadata": {},
   "outputs": [],
   "source": [
    "def get_genre(api_key):\n",
    "    url = f'https://api.themoviedb.org/3/genre/movie/list?api_key={api_key}&language=en-US'\n",
    "    \n",
    "    res = requests.get(url)\n",
    "    \n",
    "    genre_object = res.json()\n",
    "    \n",
    "    return genre_object "
   ]
  },
  {
   "cell_type": "code",
   "execution_count": null,
   "id": "9ea8cfd1",
   "metadata": {},
   "outputs": [],
   "source": [
    "genre_name_data = get_genre(api_key)\n",
    "genre_name_df = pd.DataFrame(genre_name_data['genres'])\n",
    "display(genre_name_df)"
   ]
  },
  {
   "cell_type": "code",
   "execution_count": null,
   "id": "ca0e6cc1",
   "metadata": {},
   "outputs": [],
   "source": [
    "map_dict = dict(zip(genre_name_df.id,genre_name_df.name))\n",
    "movie_genres_df['genre'] =  movie_genres_df['genre'].explode().map(map_dict).groupby(level=0).agg(list)"
   ]
  },
  {
   "cell_type": "code",
   "execution_count": null,
   "id": "52b9ef2d",
   "metadata": {},
   "outputs": [],
   "source": [
    "movie_genres_df"
   ]
  },
  {
   "cell_type": "code",
   "execution_count": null,
   "id": "41252962",
   "metadata": {},
   "outputs": [],
   "source": [
    "genre_id_list = list(movie_genres_df['genre'].explode().unique())[:-1]"
   ]
  },
  {
   "cell_type": "code",
   "execution_count": null,
   "id": "58da76c4",
   "metadata": {},
   "outputs": [],
   "source": [
    "movie_genres_exploded = movie_genres_df.explode('genre').groupby(['movie_id', 'genre']).size().to_frame('counts').reset_index().pivot(index='movie_id', columns='genre', values='counts').reset_index().fillna(0)\n",
    "movie_genres_df = movie_genres_df[['movie_id', 'genre']].merge(result)\n",
    "display(movie_genres_df)"
   ]
  },
  {
   "cell_type": "code",
   "execution_count": null,
   "id": "fab3a834",
   "metadata": {},
   "outputs": [],
   "source": []
  },
  {
   "cell_type": "code",
   "execution_count": null,
   "id": "b1be73d3",
   "metadata": {},
   "outputs": [],
   "source": []
  }
 ],
 "metadata": {
  "kernelspec": {
   "display_name": "Python 3 (ipykernel)",
   "language": "python",
   "name": "python3"
  },
  "language_info": {
   "codemirror_mode": {
    "name": "ipython",
    "version": 3
   },
   "file_extension": ".py",
   "mimetype": "text/x-python",
   "name": "python",
   "nbconvert_exporter": "python",
   "pygments_lexer": "ipython3",
   "version": "3.9.12"
  }
 },
 "nbformat": 4,
 "nbformat_minor": 5
}
