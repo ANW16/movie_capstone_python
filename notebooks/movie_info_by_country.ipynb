{
 "cells": [
  {
   "cell_type": "code",
   "execution_count": null,
   "id": "377dc480",
   "metadata": {},
   "outputs": [],
   "source": [
    "! pip install pycountry-convert --user\n",
    "! pip install geopy --user\n",
    "! pip install folium --user"
   ]
  },
  {
   "cell_type": "code",
   "execution_count": null,
   "id": "46299770",
   "metadata": {},
   "outputs": [],
   "source": [
    "import pandas as pd\n",
    "import requests\n",
    "import matplotlib.pyplot as plt\n",
    "import seaborn as sns\n",
    "import numpy as np\n",
    "import json\n",
    "import gzip\n",
    "import math\n",
    "from subprocess import check_output\n",
    "from pycountry_convert import country_alpha2_to_continent_code, country_name_to_country_alpha2\n",
    "from geopy.geocoders import Nominatim\n",
    "import folium\n",
    "from folium.plugins import MarkerCluster\n",
    "%matplotlib inline"
   ]
  },
  {
   "cell_type": "code",
   "execution_count": null,
   "id": "df4023c2",
   "metadata": {},
   "outputs": [],
   "source": [
    "production_df = pd.read_excel('../data/tmdb_production_data.xlsx', index_col=0)\n",
    "movie_df = pd.read_excel('../data/tmdb_movie_data.xlsx', index_col=0)\n",
    "genre_df = pd.read_excel('../data/movie_genres_data.xlsx', index_col=0)"
   ]
  },
  {
   "cell_type": "code",
   "execution_count": null,
   "id": "9a0d4d86",
   "metadata": {},
   "outputs": [],
   "source": [
    "production_movie_df = pd.merge(production_df, movie_df, left_on='movie_title', right_on='movie_title', how='inner')\n",
    "display(production_movie_df)"
   ]
  },
  {
   "cell_type": "code",
   "execution_count": null,
   "id": "1569663d",
   "metadata": {},
   "outputs": [],
   "source": [
    "countries_movie_count = pd.DataFrame(production_movie_df.groupby(['origin_country'])['origin_country'].count())\n",
    "countries_movie_count.rename(columns = {'origin_country':'movie_count'}, inplace = True)\n",
    "countries_movie_count = countries_movie_count.reset_index()\n",
    "display(countries_movie_count)"
   ]
  },
  {
   "cell_type": "code",
   "execution_count": null,
   "id": "7a7f9cf0",
   "metadata": {},
   "outputs": [],
   "source": [
    "def get_continent(col):\n",
    "    try:\n",
    "        cn_a2_code =  country_name_to_country_alpha2(col)\n",
    "    except:\n",
    "        cn_a2_code = 'Unknown' \n",
    "    try:\n",
    "        cn_continent = country_alpha2_to_continent_code(cn_a2_code)\n",
    "    except:\n",
    "        cn_continent = 'Unknown' \n",
    "    return (cn_a2_code, cn_continent)"
   ]
  },
  {
   "cell_type": "code",
   "execution_count": null,
   "id": "035c7bf3",
   "metadata": {},
   "outputs": [],
   "source": [
    "x = 0\n",
    "codes = []\n",
    "while x < len(countries_movie_count['origin_country']):\n",
    "    codes.append(get_continent(countries_movie_count['origin_country'][x]))\n",
    "    x=x+1\n",
    "countries_movie_count['codes'] = codes"
   ]
  },
  {
   "cell_type": "code",
   "execution_count": null,
   "id": "98b14d04",
   "metadata": {},
   "outputs": [],
   "source": [
    "country = []\n",
    "continent = []\n",
    "x=0\n",
    "while x < len(codes):\n",
    "    country.append(codes[x][0])\n",
    "    continent.append(codes[x][1])\n",
    "    x=x+1\n",
    "countries_movie_count['country'] = country\n",
    "countries_movie_count['continent'] = continent"
   ]
  },
  {
   "cell_type": "code",
   "execution_count": null,
   "id": "2665f2ad",
   "metadata": {},
   "outputs": [],
   "source": [
    "countries_movie_count"
   ]
  },
  {
   "cell_type": "code",
   "execution_count": null,
   "id": "5bb16e52",
   "metadata": {},
   "outputs": [],
   "source": [
    "geolocator = Nominatim(user_agent='my_application')\n",
    "def geolocate(country):\n",
    "    try:\n",
    "        # Geolocate the center of the country\n",
    "        loc = geolocator.geocode(country)\n",
    "        # And return latitude and longitude\n",
    "        return (loc.latitude, loc.longitude)\n",
    "    except:\n",
    "        # Return missing value\n",
    "        return np.nan"
   ]
  },
  {
   "cell_type": "code",
   "execution_count": null,
   "id": "ca38c80e",
   "metadata": {},
   "outputs": [],
   "source": [
    "x = 0\n",
    "cords = []\n",
    "while x < len(countries_movie_count['country']):\n",
    "    cords.append(geolocate(countries_movie_count['country'][x]))\n",
    "    x=x+1\n",
    "countries_movie_count['cords'] = cords"
   ]
  },
  {
   "cell_type": "code",
   "execution_count": null,
   "id": "d817885c",
   "metadata": {},
   "outputs": [],
   "source": [
    "latitude = []\n",
    "longitude = []\n",
    "x=0\n",
    "while x < len(cords):\n",
    "    try:\n",
    "        latitude.append(cords[x][0])\n",
    "    except TypeError:\n",
    "        latitude.append('nan')\n",
    "    try:\n",
    "        longitude.append(cords[x][1])\n",
    "    except TypeError:\n",
    "        longitude.append('nan')\n",
    "    x=x+1\n",
    "countries_movie_count['latitude'] = latitude\n",
    "countries_movie_count['longitude'] = longitude"
   ]
  },
  {
   "cell_type": "code",
   "execution_count": null,
   "id": "acbbebde",
   "metadata": {},
   "outputs": [],
   "source": [
    "countries_movie_count.dropna(subset=['cords'], inplace=True)"
   ]
  },
  {
   "cell_type": "code",
   "execution_count": null,
   "id": "b2c45bde",
   "metadata": {},
   "outputs": [],
   "source": [
    "countries_movie_count"
   ]
  },
  {
   "cell_type": "code",
   "execution_count": null,
   "id": "bbfe37be",
   "metadata": {},
   "outputs": [],
   "source": [
    "world_map= folium.Map(tiles=\"cartodbpositron\")\n",
    "marker_cluster = MarkerCluster().add_to(world_map)\n",
    "#for each coordinate, create circlemarker of user percent\n",
    "for i in range(len(countries_movie_count)):\n",
    "        lat = countries_movie_count.iloc[i]['latitude']\n",
    "        long = countries_movie_count.iloc[i]['longitude']\n",
    "        radius=5\n",
    "        popup_text = \"\"\"Country : {}<br>\n",
    "                    Number of movies : {}<br>\"\"\"\n",
    "        popup_text = popup_text.format(countries_movie_count.iloc[i]['country'],\n",
    "                                   countries_movie_count.iloc[i]['movie_count']\n",
    "                                   )\n",
    "        folium.CircleMarker(location = [lat, long], radius=radius, popup= popup_text, fill =True).add_to(marker_cluster)\n",
    "#show the map\n",
    "world_map"
   ]
  },
  {
   "cell_type": "code",
   "execution_count": null,
   "id": "66adae0e",
   "metadata": {},
   "outputs": [],
   "source": [
    "continent_counts = countries_movie_count[['movie_count', 'continent']]\n",
    "continent_counts = continent_counts.groupby('continent').sum()\n",
    "continent_counts = continent_counts.reset_index()\n",
    "continent_counts = continent_counts.replace(to_replace=['AF', 'AS', 'EU', 'NA', 'OC', 'SA'], value=['Africa', 'Asia', 'Europe', 'North America', ''])\n",
    "display(continent_counts)"
   ]
  },
  {
   "cell_type": "code",
   "execution_count": null,
   "id": "ff49f52a",
   "metadata": {},
   "outputs": [],
   "source": []
  }
 ],
 "metadata": {
  "kernelspec": {
   "display_name": "Python 3 (ipykernel)",
   "language": "python",
   "name": "python3"
  },
  "language_info": {
   "codemirror_mode": {
    "name": "ipython",
    "version": 3
   },
   "file_extension": ".py",
   "mimetype": "text/x-python",
   "name": "python",
   "nbconvert_exporter": "python",
   "pygments_lexer": "ipython3",
   "version": "3.9.12"
  }
 },
 "nbformat": 4,
 "nbformat_minor": 5
}
