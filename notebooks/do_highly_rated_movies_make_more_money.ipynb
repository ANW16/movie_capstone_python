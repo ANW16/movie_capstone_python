{
 "cells": [
  {
   "cell_type": "code",
   "execution_count": null,
   "id": "c394ccfd",
   "metadata": {},
   "outputs": [],
   "source": [
    "import pandas as pd\n",
    "import requests\n",
    "import matplotlib.pyplot as plt\n",
    "import matplotlib\n",
    "import seaborn as sns\n",
    "import numpy as np\n",
    "from numpy import mean\n",
    "import json\n",
    "import gzip\n",
    "from subprocess import check_output\n",
    "import math\n",
    "%matplotlib inline"
   ]
  },
  {
   "cell_type": "code",
   "execution_count": null,
   "id": "2bf723a7",
   "metadata": {},
   "outputs": [],
   "source": [
    "production_df = pd.read_excel('../data/tmdb_production_data.xlsx', index_col=0)\n",
    "movie_df = pd.read_excel('../data/tmdb_movie_data.xlsx', index_col=0)\n",
    "genre_df = pd.read_excel('../data/movie_genres_data.xlsx', index_col=0)"
   ]
  },
  {
   "cell_type": "code",
   "execution_count": null,
   "id": "6d57b4cd",
   "metadata": {},
   "outputs": [],
   "source": [
    "revenue = production_df[['movie_title', 'movie_revenue', 'movie_budget', 'movie_profits']]\n",
    "revenue = revenue[revenue['movie_revenue'] != 0]\n",
    "revenue = revenue[revenue['movie_budget'] != 0]\n",
    "revenue = revenue.drop(columns={'movie_revenue', 'movie_budget'})\n",
    "revenue"
   ]
  },
  {
   "cell_type": "code",
   "execution_count": null,
   "id": "a8bd0488",
   "metadata": {},
   "outputs": [],
   "source": [
    "movie_votes = movie_df[['movie_title', 'movie_avg_vote', 'movie_vote_count']]\n",
    "movie_votes = movie_votes[movie_votes['movie_vote_count'] > 1000]\n",
    "movie_votes['movie_avg_vote'] = movie_votes['movie_avg_vote']\n",
    "movie_votes"
   ]
  },
  {
   "cell_type": "code",
   "execution_count": null,
   "id": "6956f19c",
   "metadata": {},
   "outputs": [],
   "source": [
    "rating_revenue = revenue.merge(movie_votes, how='inner')\n",
    "rating_revenue"
   ]
  },
  {
   "cell_type": "code",
   "execution_count": null,
   "id": "55adead9",
   "metadata": {},
   "outputs": [],
   "source": [
    "box_data = rating_revenue.copy(deep=True)\n",
    "box_data"
   ]
  },
  {
   "cell_type": "code",
   "execution_count": null,
   "id": "35bb59a1",
   "metadata": {},
   "outputs": [],
   "source": [
    "rating_revenue['movie_profits'] = rating_revenue['movie_profits']/1000000"
   ]
  },
  {
   "cell_type": "code",
   "execution_count": null,
   "id": "f0d0da94",
   "metadata": {},
   "outputs": [],
   "source": [
    "data = rating_revenue.groupby('movie_avg_vote').mean()\n",
    "data = data.drop(columns='movie_vote_count')\n",
    "data['movie_profits'] = round(data['movie_profits'], 0)\n",
    "data.reset_index(inplace=True)\n",
    "data = data.rename(columns={'movie_avg_vote':'Rating', 'movie_profits':'Average Profit (Millions)'})\n",
    "data"
   ]
  },
  {
   "cell_type": "code",
   "execution_count": null,
   "id": "4c836b63",
   "metadata": {},
   "outputs": [],
   "source": [
    "means = list(data['Average Profit (Millions)'])\n",
    "means = [int(i) for i in means]\n",
    "means"
   ]
  },
  {
   "cell_type": "code",
   "execution_count": null,
   "id": "d67ad2dd",
   "metadata": {},
   "outputs": [],
   "source": [
    "avg_profit = mean(means)\n",
    "avg_profit"
   ]
  },
  {
   "cell_type": "code",
   "execution_count": null,
   "id": "c0e1e3ed",
   "metadata": {},
   "outputs": [],
   "source": [
    "movie_count = movie_votes.drop(columns={'movie_title'})\n",
    "movie_count = movie_count.groupby('movie_avg_vote').count()\n",
    "movie_count"
   ]
  },
  {
   "cell_type": "code",
   "execution_count": null,
   "id": "ba244f81",
   "metadata": {},
   "outputs": [],
   "source": [
    "plt.figure(figsize=(14,11))\n",
    "sns.set(style=\"ticks\", context=\"talk\")\n",
    "plt.style.use(\"dark_background\")\n",
    "\n",
    "cols = ['#D61A1F' if (x < avg_profit) else '#F9C31A' for x in data['Average Profit (Millions)']]\n",
    "\n",
    "bar = sns.barplot(x='Rating', y='Average Profit (Millions)', data=data, palette=cols, ci=False);\n",
    "\n",
    "for x in range(len(means)):\n",
    "    bar.text(x,means[x]+2.5, str(round(means[x],0)),\n",
    "            fontdict = dict(color='white', fontsize=18),\n",
    "            horizontalalignment = 'center')"
   ]
  },
  {
   "cell_type": "code",
   "execution_count": null,
   "id": "929124eb",
   "metadata": {},
   "outputs": [],
   "source": [
    "box_data = box_data.drop(columns={'movie_title', 'movie_vote_count'})"
   ]
  },
  {
   "cell_type": "code",
   "execution_count": null,
   "id": "83ceba94",
   "metadata": {},
   "outputs": [],
   "source": [
    "def custom_round(x):\n",
    "    if x % 1 >= 0.25 and x % 1 <= 0.75:\n",
    "        return round(x * 2) / 2\n",
    "    else:\n",
    "        return round(x)"
   ]
  },
  {
   "cell_type": "code",
   "execution_count": null,
   "id": "0d21204c",
   "metadata": {},
   "outputs": [],
   "source": [
    "box_data['movie_avg_vote'] = box_data['movie_avg_vote'].apply(lambda x: custom_round(x))\n",
    "box_data['movie_profits'] = box_data['movie_profits']/1000000000\n",
    "box_data"
   ]
  },
  {
   "cell_type": "code",
   "execution_count": null,
   "id": "daf7a60c",
   "metadata": {},
   "outputs": [],
   "source": [
    "plt.figure(figsize=(25,11))\n",
    "sns.set(style=\"ticks\", context=\"talk\")\n",
    "plt.style.use(\"dark_background\")\n",
    "\n",
    "box = sns.boxplot(y='movie_avg_vote', x='movie_profits', data=box_data, color='#F9C31A',  orient='h');\n",
    "box.set(ylabel=('TMDb Rating'), xlabel=('Movie Profits (Billions)'))"
   ]
  },
  {
   "cell_type": "code",
   "execution_count": null,
   "id": "157f331b",
   "metadata": {},
   "outputs": [],
   "source": []
  },
  {
   "cell_type": "code",
   "execution_count": null,
   "id": "c7d79422",
   "metadata": {},
   "outputs": [],
   "source": []
  }
 ],
 "metadata": {
  "kernelspec": {
   "display_name": "Python 3 (ipykernel)",
   "language": "python",
   "name": "python3"
  },
  "language_info": {
   "codemirror_mode": {
    "name": "ipython",
    "version": 3
   },
   "file_extension": ".py",
   "mimetype": "text/x-python",
   "name": "python",
   "nbconvert_exporter": "python",
   "pygments_lexer": "ipython3",
   "version": "3.9.12"
  }
 },
 "nbformat": 4,
 "nbformat_minor": 5
}
