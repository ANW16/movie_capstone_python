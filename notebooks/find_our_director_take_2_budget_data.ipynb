{
 "cells": [
  {
   "cell_type": "code",
   "execution_count": null,
   "id": "e421b9e3",
   "metadata": {},
   "outputs": [],
   "source": [
    "import pandas as pd\n",
    "import requests\n",
    "import matplotlib.pyplot as plt\n",
    "import matplotlib\n",
    "import seaborn as sns\n",
    "import numpy as np\n",
    "from numpy import mean\n",
    "import json\n",
    "import gzip\n",
    "from subprocess import check_output\n",
    "import math\n",
    "import ast\n",
    "%matplotlib inline"
   ]
  },
  {
   "cell_type": "code",
   "execution_count": null,
   "id": "187f6f3d",
   "metadata": {},
   "outputs": [],
   "source": [
    "production_df = pd.read_excel('../data/tmdb_production_data.xlsx', index_col=0)\n",
    "movie_df = pd.read_excel('../data/tmdb_movie_data.xlsx', index_col=0)\n",
    "genre_df = pd.read_excel('../data/movie_genres_data.xlsx', index_col=0)\n",
    "cast_df = pd.read_excel('../data/tmdb_cast_data.xlsx', index_col=0)"
   ]
  },
  {
   "cell_type": "code",
   "execution_count": null,
   "id": "96754682",
   "metadata": {},
   "outputs": [],
   "source": [
    "director_df = cast_df.loc[cast_df['cast_known_for_department']=='Directing']\n",
    "director_df"
   ]
  },
  {
   "cell_type": "code",
   "execution_count": null,
   "id": "76dd087a",
   "metadata": {},
   "outputs": [],
   "source": [
    "director_movie = director_df[['movie_id', 'cast_name']]\n",
    "director_movie = director_movie.groupby(\"cast_name\").agg({\"movie_id\": lambda x: list(x)})\n",
    "director_movie.reset_index(inplace=True)\n",
    "director_movie = director_movie.rename(columns={'cast_name':'Director'})\n",
    "director_movie"
   ]
  },
  {
   "cell_type": "code",
   "execution_count": null,
   "id": "2a360c04",
   "metadata": {},
   "outputs": [],
   "source": [
    "movie_profits = production_df[['movie_title', 'movie_budget']]\n",
    "movie_profits"
   ]
  },
  {
   "cell_type": "code",
   "execution_count": null,
   "id": "bb1979fc",
   "metadata": {},
   "outputs": [],
   "source": [
    "movie_ids = movie_df[['movie_id', 'movie_title']]\n",
    "movie_ids"
   ]
  },
  {
   "cell_type": "code",
   "execution_count": null,
   "id": "f6a689fa",
   "metadata": {},
   "outputs": [],
   "source": [
    "profit_ids = movie_profits.merge(movie_ids)\n",
    "profit_ids = profit_ids[profit_ids['movie_budget'] != 0]\n",
    "profit_ids = profit_ids.drop(columns={'movie_title'})\n",
    "profit_ids"
   ]
  },
  {
   "cell_type": "code",
   "execution_count": null,
   "id": "9528b3a4",
   "metadata": {},
   "outputs": [],
   "source": [
    "profit_genre = profit_ids.merge(genre_df)\n",
    "\n",
    "animation_movies = profit_genre[profit_genre['Animation'] == 1]\n",
    "animation_movies"
   ]
  },
  {
   "cell_type": "code",
   "execution_count": null,
   "id": "ebf65098",
   "metadata": {},
   "outputs": [],
   "source": [
    "animation_movies = animation_movies.drop(columns={'Action', 'Adventure', 'Animation', 'Comedy', 'Crime', 'Drama', 'Family', 'Fantasy', 'History', 'Horror', 'Music', 'Mystery', 'Romance', 'Science Fiction', 'TV Movie', 'Thriller', 'War', 'Western'})\n",
    "animation_movies"
   ]
  },
  {
   "cell_type": "code",
   "execution_count": null,
   "id": "cc6efa40",
   "metadata": {},
   "outputs": [],
   "source": [
    "avg_ani_budget = animation_movies['movie_budget'].mean()\n",
    "round(avg_ani_budget/1000000,0)"
   ]
  },
  {
   "cell_type": "code",
   "execution_count": null,
   "id": "d02f7f1c",
   "metadata": {},
   "outputs": [],
   "source": [
    "repeated_rows = []\n",
    "for movie_id, profits in zip(animation_movies['movie_id'], animation_movies['movie_budget']):\n",
    "    directors = director_movie[director_movie['movie_id'].apply(lambda x: movie_id in x)]['Director'].values\n",
    "    for director in directors:\n",
    "        repeated_rows.append({'movie_id': movie_id, 'movie_budget': profits, 'Director': director})\n",
    "\n",
    "animation_movies_repeated = pd.DataFrame(repeated_rows)"
   ]
  },
  {
   "cell_type": "code",
   "execution_count": null,
   "id": "7353bf02",
   "metadata": {},
   "outputs": [],
   "source": [
    "animation_movies_repeated"
   ]
  },
  {
   "cell_type": "code",
   "execution_count": null,
   "id": "35dbc470",
   "metadata": {},
   "outputs": [],
   "source": [
    "animation_movies_repeated = animation_movies_repeated.drop(columns={'movie_id'})"
   ]
  },
  {
   "cell_type": "code",
   "execution_count": null,
   "id": "e5089e16",
   "metadata": {},
   "outputs": [],
   "source": [
    "movies_directed = animation_movies_repeated.groupby('Director').size()\n",
    "movies_directed = pd.DataFrame(movies_directed)\n",
    "movies_directed.reset_index(inplace=True)\n",
    "movies_directed = movies_directed.rename(columns={0:'Movies Directed'})\n",
    "movies_directed"
   ]
  },
  {
   "cell_type": "code",
   "execution_count": null,
   "id": "35a25865",
   "metadata": {},
   "outputs": [],
   "source": [
    "animation_movies_repeated = animation_movies_repeated.groupby('Director').mean()\n",
    "animation_movies_repeated.reset_index(inplace=True)\n",
    "animation_movies_repeated['movie_budget'] = round(animation_movies_repeated['movie_budget']/1000000,0)\n",
    "animation_movies_repeated"
   ]
  },
  {
   "cell_type": "code",
   "execution_count": null,
   "id": "b0e00977",
   "metadata": {},
   "outputs": [],
   "source": [
    "director_data = animation_movies_repeated.merge(movies_directed)\n",
    "director_data"
   ]
  },
  {
   "cell_type": "code",
   "execution_count": null,
   "id": "c8aff8e8",
   "metadata": {},
   "outputs": [],
   "source": [
    "canidates = ['Brad Bird', 'Lee Unkrich', 'Stephen J. Anderson']"
   ]
  },
  {
   "cell_type": "code",
   "execution_count": null,
   "id": "c1c34040",
   "metadata": {},
   "outputs": [],
   "source": [
    "result = director_data[director_data['Director'].isin(canidates)]\n",
    "result = result.rename(columns={'movie_budget':'Average Budget (Millions)'})\n",
    "result = result.sort_values('Average Budget (Millions)', ascending=1)\n",
    "result"
   ]
  },
  {
   "cell_type": "code",
   "execution_count": null,
   "id": "1be2d6d9",
   "metadata": {},
   "outputs": [],
   "source": [
    "means = list(result['Average Budget (Millions)'])\n",
    "means = [int(i) for i in means]\n",
    "means"
   ]
  },
  {
   "cell_type": "code",
   "execution_count": null,
   "id": "b9c3446f",
   "metadata": {},
   "outputs": [],
   "source": [
    "plt.figure(figsize=(14,11))\n",
    "sns.set(style=\"ticks\", context=\"talk\")\n",
    "plt.style.use(\"dark_background\")\n",
    "\n",
    "palette = {'Brad Bird':'#485c70', 'Lee Unkrich':'#630330', 'Stephen J. Anderson':'#D61A1F'}\n",
    "\n",
    "bar = sns.barplot(x='Director', y='Average Budget (Millions)', data=result, palette=palette, ci=False);\n",
    "\n",
    "for x in range(len(means)):\n",
    "    bar.text(x,means[x]+1.5, str(round(means[x],0)),\n",
    "            fontdict = dict(color='white', fontsize=18),\n",
    "            horizontalalignment = 'center')"
   ]
  },
  {
   "cell_type": "code",
   "execution_count": null,
   "id": "cf9f554f",
   "metadata": {},
   "outputs": [],
   "source": []
  }
 ],
 "metadata": {
  "kernelspec": {
   "display_name": "Python 3 (ipykernel)",
   "language": "python",
   "name": "python3"
  },
  "language_info": {
   "codemirror_mode": {
    "name": "ipython",
    "version": 3
   },
   "file_extension": ".py",
   "mimetype": "text/x-python",
   "name": "python",
   "nbconvert_exporter": "python",
   "pygments_lexer": "ipython3",
   "version": "3.9.12"
  }
 },
 "nbformat": 4,
 "nbformat_minor": 5
}
